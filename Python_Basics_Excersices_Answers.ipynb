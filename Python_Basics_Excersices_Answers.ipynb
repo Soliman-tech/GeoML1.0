{
  "nbformat": 4,
  "nbformat_minor": 0,
  "metadata": {
    "colab": {
      "name": "Python Basics Excersices_Answers.ipynb",
      "provenance": [],
      "collapsed_sections": [],
      "toc_visible": true,
      "authorship_tag": "ABX9TyObTKDZmVSOiZa7SrwAiHPK"
    },
    "kernelspec": {
      "name": "python3",
      "display_name": "Python 3"
    }
  },
  "cells": [
    {
      "cell_type": "markdown",
      "metadata": {
        "id": "jrpTi2Oa0K7y"
      },
      "source": [
        "## Add Two Numbers"
      ]
    },
    {
      "cell_type": "code",
      "metadata": {
        "colab": {
          "base_uri": "https://localhost:8080/"
        },
        "id": "R97SYtcEzZ3T",
        "outputId": "e234f8ec-96a6-4d71-dc89-c383f24fb2e0"
      },
      "source": [
        "# This program adds two numbers\r\n",
        "\r\n",
        "num1 = 1.5\r\n",
        "num2 = 6.3\r\n",
        "\r\n",
        "# Add two numbers\r\n",
        "sum = num1 + num2\r\n",
        "\r\n",
        "# Display the sum\r\n",
        "print('The sum of {0} and {1} is {2}'.format(num1, num2, sum))"
      ],
      "execution_count": null,
      "outputs": [
        {
          "output_type": "stream",
          "text": [
            "The sum of 1.5 and 6.3 is 7.8\n"
          ],
          "name": "stdout"
        }
      ]
    },
    {
      "cell_type": "code",
      "metadata": {
        "colab": {
          "base_uri": "https://localhost:8080/"
        },
        "id": "X6HTCqtyztWe",
        "outputId": "455eaf68-b3ad-4091-b691-6afde2b665ad"
      },
      "source": [
        "# Store input numbers\r\n",
        "num1 = input('Enter first number: ')\r\n",
        "num2 = input('Enter second number: ')\r\n",
        "\r\n",
        "# Add two numbers\r\n",
        "sum = float(num1) + float(num2)\r\n",
        "\r\n",
        "# Display the sum\r\n",
        "print('The sum of {0} and {1} is {2}'.format(num1, num2, sum))"
      ],
      "execution_count": null,
      "outputs": [
        {
          "output_type": "stream",
          "text": [
            "Enter first number: 1\n",
            "Enter second number: 6\n",
            "The sum of 1 and 6 is 7.0\n"
          ],
          "name": "stdout"
        }
      ]
    },
    {
      "cell_type": "code",
      "metadata": {
        "colab": {
          "base_uri": "https://localhost:8080/"
        },
        "id": "ff0CIme2zf4q",
        "outputId": "6e36728b-b72a-4a34-dbc4-e80bf4078cd9"
      },
      "source": [
        "print('The sum is %.1f' %(float(input('Enter first number: ')) + float(input('Enter second number: '))))"
      ],
      "execution_count": null,
      "outputs": [
        {
          "output_type": "stream",
          "text": [
            "Enter first number: 2\n",
            "Enter second number: 5\n",
            "The sum is 7.0\n"
          ],
          "name": "stdout"
        }
      ]
    },
    {
      "cell_type": "markdown",
      "metadata": {
        "id": "paRM0p850OwG"
      },
      "source": [
        "## Square root "
      ]
    },
    {
      "cell_type": "code",
      "metadata": {
        "colab": {
          "base_uri": "https://localhost:8080/"
        },
        "id": "ET2ujhJVzf2i",
        "outputId": "d682ed28-7420-4d91-fc3c-e2880856f804"
      },
      "source": [
        "num = 8 \r\n",
        "num_sqrt = num ** 0.5\r\n",
        "print('The square root of %0.3f is %0.3f'%(num ,num_sqrt))"
      ],
      "execution_count": null,
      "outputs": [
        {
          "output_type": "stream",
          "text": [
            "The square root of 8.000 is 2.828\n"
          ],
          "name": "stdout"
        }
      ]
    },
    {
      "cell_type": "code",
      "metadata": {
        "colab": {
          "base_uri": "https://localhost:8080/"
        },
        "id": "wCTJ3lSszf0K",
        "outputId": "38d753d9-2009-41a2-cb7d-c372e6f4148b"
      },
      "source": [
        "## For real or complex numbers\r\n",
        "import cmath\r\n",
        "\r\n",
        "num = 21+2j\r\n",
        "num_sqrt = cmath.sqrt(num)\r\n",
        "print('The square root of {0} is {1:0.3f}+{2:0.3f}j'.format(num ,num_sqrt.real,num_sqrt.imag))"
      ],
      "execution_count": null,
      "outputs": [
        {
          "output_type": "stream",
          "text": [
            "The square root of (21+2j) is 4.588+0.218j\n"
          ],
          "name": "stdout"
        }
      ]
    },
    {
      "cell_type": "markdown",
      "metadata": {
        "id": "Mqep9I4V1FOP"
      },
      "source": [
        "## The area of triangle"
      ]
    },
    {
      "cell_type": "code",
      "metadata": {
        "colab": {
          "base_uri": "https://localhost:8080/"
        },
        "id": "trh8DGO7zfxt",
        "outputId": "92f62716-b56e-48ea-b055-a70c1b9190bd"
      },
      "source": [
        "# Python Program to find the area of triangle\r\n",
        "a = 5\r\n",
        "b = 6\r\n",
        "c = 7\r\n",
        "\r\n",
        "# calculate the semi-perimeter\r\n",
        "s = (a + b + c) / 2\r\n",
        "\r\n",
        "# calculate the area\r\n",
        "area = (s*(s-a)*(s-b)*(s-c)) ** 0.5\r\n",
        "print('The area of the triangle is %0.2f' %area)"
      ],
      "execution_count": null,
      "outputs": [
        {
          "output_type": "stream",
          "text": [
            "The area of the triangle is 14.70\n"
          ],
          "name": "stdout"
        }
      ]
    },
    {
      "cell_type": "markdown",
      "metadata": {
        "id": "uzg19MaJ1jaV"
      },
      "source": [
        "## Solving Quadratic Equation"
      ]
    },
    {
      "cell_type": "code",
      "metadata": {
        "colab": {
          "base_uri": "https://localhost:8080/"
        },
        "id": "OGQYCRLXzfvi",
        "outputId": "94a44f82-9222-4f52-c984-9b7c26622b9a"
      },
      "source": [
        "a = 1\r\n",
        "b = 5\r\n",
        "c = 6\r\n",
        "\r\n",
        "# calculate the discriminant\r\n",
        "d = (b**2) - (4*a*c)\r\n",
        "\r\n",
        "# find two solutions\r\n",
        "sol1 = (-b-cmath.sqrt(d))/(2*a)\r\n",
        "sol2 = (-b+cmath.sqrt(d))/(2*a)\r\n",
        "\r\n",
        "print('The solution are {0} and {1}'.format(sol1,sol2))"
      ],
      "execution_count": null,
      "outputs": [
        {
          "output_type": "stream",
          "text": [
            "The solution are (-3+0j) and (-2+0j)\n"
          ],
          "name": "stdout"
        }
      ]
    },
    {
      "cell_type": "markdown",
      "metadata": {
        "id": "-eB4NolV2DIN"
      },
      "source": [
        "## Convert Kilometers to Miles\r\n",
        "\r\n",
        "> Indented block\r\n",
        "\r\n"
      ]
    },
    {
      "cell_type": "code",
      "metadata": {
        "id": "9vBz0ZlszfqY"
      },
      "source": [
        "kilometers = float(input(\"Enter value in kilometers: \"))\r\n",
        "\r\n",
        "# conversion factor\r\n",
        "conv_fac = 0.621371\r\n",
        "\r\n",
        "# calculate miles\r\n",
        "miles = kilometers * conv_fac\r\n",
        "print('%0.2f kilometers is equal to %0.2f miles' %(kilometers,miles))"
      ],
      "execution_count": null,
      "outputs": []
    },
    {
      "cell_type": "markdown",
      "metadata": {
        "id": "EY0_RpUt3WZ_"
      },
      "source": [
        "## Convert Celsius To Fahrenheit"
      ]
    },
    {
      "cell_type": "code",
      "metadata": {
        "colab": {
          "base_uri": "https://localhost:8080/"
        },
        "id": "Kvv-EF3pzfoQ",
        "outputId": "1afd7113-555f-4475-f656-3dc8f6123d85"
      },
      "source": [
        "celsius = 37.5\r\n",
        "\r\n",
        "# calculate fahrenheit\r\n",
        "fahrenheit = (celsius * 1.8) + 32\r\n",
        "print('%0.1f degree Celsius is equal to %0.1f degree Fahrenheit' %(celsius,fahrenheit))"
      ],
      "execution_count": null,
      "outputs": [
        {
          "output_type": "stream",
          "text": [
            "37.5 degree Celsius is equal to 99.5 degree Fahrenheit\n"
          ],
          "name": "stdout"
        }
      ]
    },
    {
      "cell_type": "markdown",
      "metadata": {
        "id": "FaIylJ0J4XQP"
      },
      "source": [
        "## Check if a Number is Positive, Negative or 0\r\n",
        "\r\n",
        "*   List item\r\n",
        "*   List item\r\n",
        "\r\n"
      ]
    },
    {
      "cell_type": "code",
      "metadata": {
        "colab": {
          "base_uri": "https://localhost:8080/"
        },
        "id": "j7GndnBizflr",
        "outputId": "73663543-33aa-45bb-fb36-9d3194fa6e15"
      },
      "source": [
        "num = float(input(\"Enter a number: \"))\r\n",
        "if num > 0:\r\n",
        "   print(\"Positive number\")\r\n",
        "elif num == 0:\r\n",
        "   print(\"Zero\")\r\n",
        "else:\r\n",
        "   print(\"Negative number\")"
      ],
      "execution_count": null,
      "outputs": [
        {
          "output_type": "stream",
          "text": [
            "Enter a number: 3.256\n",
            "Positive number\n"
          ],
          "name": "stdout"
        }
      ]
    },
    {
      "cell_type": "markdown",
      "metadata": {
        "id": "kt038X9d5bHj"
      },
      "source": [
        "# IF STATMENT"
      ]
    },
    {
      "cell_type": "markdown",
      "metadata": {
        "id": "uGjfRtQf4q41"
      },
      "source": [
        "## Odd or Even"
      ]
    },
    {
      "cell_type": "code",
      "metadata": {
        "colab": {
          "base_uri": "https://localhost:8080/"
        },
        "id": "xusRQeMWzfjX",
        "outputId": "cdf07a77-d3cc-404c-d80b-d3178dff0d78"
      },
      "source": [
        "num = int(input(\"Enter a number: \"))\r\n",
        "if (num % 2) == 0:\r\n",
        "   print(\"{0} is Even\".format(num))\r\n",
        "else:\r\n",
        "   print(\"{0} is Odd\".format(num))"
      ],
      "execution_count": null,
      "outputs": [
        {
          "output_type": "stream",
          "text": [
            "Enter a number: 2\n",
            "2 is Even\n"
          ],
          "name": "stdout"
        }
      ]
    },
    {
      "cell_type": "markdown",
      "metadata": {
        "id": "mrNTwF7x5GEI"
      },
      "source": [
        "## Check Leap Year"
      ]
    },
    {
      "cell_type": "markdown",
      "metadata": {
        "id": "4ee2FFuN5Q4u"
      },
      "source": [
        "A leap year is exactly divisible by 4 except for century years (years ending with 00). The century year is a leap year only if it is perfectly divisible by 400."
      ]
    },
    {
      "cell_type": "code",
      "metadata": {
        "colab": {
          "base_uri": "https://localhost:8080/"
        },
        "id": "U6Op2jMzzfg1",
        "outputId": "3d267b50-ef69-4f63-92d2-726a37c6a6a3"
      },
      "source": [
        "\r\n",
        "year = 2000\r\n",
        "\r\n",
        "# To get year (integer input) from the user\r\n",
        "# year = int(input(\"Enter a year: \"))\r\n",
        "\r\n",
        "if (year % 4) == 0:\r\n",
        "   if (year % 100) == 0:\r\n",
        "       if (year % 400) == 0:\r\n",
        "           print(\"{0} is a leap year\".format(year))\r\n",
        "       else:\r\n",
        "           print(\"{0} is not a leap year\".format(year))\r\n",
        "   else:\r\n",
        "       print(\"{0} is a leap year\".format(year))\r\n",
        "else:\r\n",
        "   print(\"{0} is not a leap year\".format(year))"
      ],
      "execution_count": null,
      "outputs": [
        {
          "output_type": "stream",
          "text": [
            "2000 is a leap year\n"
          ],
          "name": "stdout"
        }
      ]
    },
    {
      "cell_type": "markdown",
      "metadata": {
        "id": "iEseIFXr6BYZ"
      },
      "source": [
        "## The Largest Number"
      ]
    },
    {
      "cell_type": "code",
      "metadata": {
        "colab": {
          "base_uri": "https://localhost:8080/"
        },
        "id": "PTxZuThazfei",
        "outputId": "63d72c4f-d39a-4b52-a0ab-65a66b9c20d4"
      },
      "source": [
        "num1 = 10\r\n",
        "num2 = 14\r\n",
        "num3 = 12\r\n",
        "\r\n",
        "# uncomment following lines to take three numbers from user\r\n",
        "#num1 = float(input(\"Enter first number: \"))\r\n",
        "#num2 = float(input(\"Enter second number: \"))\r\n",
        "#num3 = float(input(\"Enter third number: \"))\r\n",
        "\r\n",
        "if (num1 >= num2) and (num1 >= num3):\r\n",
        "   largest = num1\r\n",
        "elif (num2 >= num1) and (num2 >= num3):\r\n",
        "   largest = num2\r\n",
        "else:\r\n",
        "   largest = num3\r\n",
        "\r\n",
        "print(\"The largest number is\", largest)"
      ],
      "execution_count": null,
      "outputs": [
        {
          "output_type": "stream",
          "text": [
            "The largest number is 14\n"
          ],
          "name": "stdout"
        }
      ]
    },
    {
      "cell_type": "markdown",
      "metadata": {
        "id": "OiZABXrD6Ngg"
      },
      "source": [
        "## Check Prime Number\r\n",
        "A positive integer greater than 1 which has no other factors except 1 and the number itself is called a prime number. 2, 3, 5, 7 etc. are prime numbers as they do not have any other factors. But 6 is not prime (it is composite) since, 2 x 3 = 6."
      ]
    },
    {
      "cell_type": "code",
      "metadata": {
        "colab": {
          "base_uri": "https://localhost:8080/"
        },
        "id": "5yeCa6awzfb5",
        "outputId": "09272b1b-7a42-4dab-8847-3c49af4f8f0e"
      },
      "source": [
        "num = 407\r\n",
        "\r\n",
        "# To take input from the user\r\n",
        "#num = int(input(\"Enter a number: \"))\r\n",
        "\r\n",
        "# prime numbers are greater than 1\r\n",
        "if num > 1:\r\n",
        "   # check for factors\r\n",
        "   for i in range(2,num):\r\n",
        "       if (num % i) == 0:\r\n",
        "           print(num,\"is not a prime number\")\r\n",
        "           print(i,\"times\",num//i,\"is\",num)\r\n",
        "           break\r\n",
        "   else:\r\n",
        "       print(num,\"is a prime number\")\r\n",
        "       \r\n",
        "# if input number is less than\r\n",
        "# or equal to 1, it is not prime\r\n",
        "else:\r\n",
        "   print(num,\"is not a prime number\")"
      ],
      "execution_count": null,
      "outputs": [
        {
          "output_type": "stream",
          "text": [
            "407 is not a prime number\n",
            "11 times 37 is 407\n"
          ],
          "name": "stdout"
        }
      ]
    },
    {
      "cell_type": "markdown",
      "metadata": {
        "id": "CiXzi3AJRZmn"
      },
      "source": [
        "## Print all Prime Numbers in an Interval"
      ]
    },
    {
      "cell_type": "code",
      "metadata": {
        "colab": {
          "base_uri": "https://localhost:8080/"
        },
        "id": "4p5BFGznzfZV",
        "outputId": "3cbef3aa-7444-4249-88c2-15e27ba55f81"
      },
      "source": [
        "lower = 900\r\n",
        "upper = 1000\r\n",
        "\r\n",
        "print(\"Prime numbers between\", lower, \"and\", upper, \"are:\")\r\n",
        "\r\n",
        "for num in range(lower, upper + 1):\r\n",
        "   # all prime numbers are greater than 1\r\n",
        "   if num > 1:\r\n",
        "       for i in range(2, num):\r\n",
        "           if (num % i) == 0:\r\n",
        "               break\r\n",
        "       else:\r\n",
        "           print(num)"
      ],
      "execution_count": null,
      "outputs": [
        {
          "output_type": "stream",
          "text": [
            "Prime numbers between 900 and 1000 are:\n",
            "907\n",
            "911\n",
            "919\n",
            "929\n",
            "937\n",
            "941\n",
            "947\n",
            "953\n",
            "967\n",
            "971\n",
            "977\n",
            "983\n",
            "991\n",
            "997\n"
          ],
          "name": "stdout"
        }
      ]
    },
    {
      "cell_type": "markdown",
      "metadata": {
        "id": "ZkRkklrLRiJ9"
      },
      "source": [
        "## Find the Factorial of a Number\r\n",
        "\r\n",
        "The factorial of a number is the product of all the integers from 1 to that number.\r\n",
        "\r\n",
        "For example, the factorial of 6 is 1*2*3*4*5*6 = 720. Factorial is not defined for negative numbers, and the factorial of zero is one, 0! = 1."
      ]
    },
    {
      "cell_type": "code",
      "metadata": {
        "colab": {
          "base_uri": "https://localhost:8080/"
        },
        "id": "yHLaNbbPzfXF",
        "outputId": "646d1548-d56b-4d84-be68-2fe9f8ae29fb"
      },
      "source": [
        "num = 10\r\n",
        "\r\n",
        "# To take input from the user\r\n",
        "#num = int(input(\"Enter a number: \"))\r\n",
        "\r\n",
        "factorial = 1\r\n",
        "\r\n",
        "# check if the number is negative, positive or zero\r\n",
        "if num < 0:\r\n",
        "   print(\"Sorry, factorial does not exist for negative numbers\")\r\n",
        "elif num == 0:\r\n",
        "   print(\"The factorial of 0 is 1\")\r\n",
        "else:\r\n",
        "   for i in range(1,num + 1):\r\n",
        "       factorial = factorial*i\r\n",
        "   print(\"The factorial of\",num,\"is\",factorial)"
      ],
      "execution_count": null,
      "outputs": [
        {
          "output_type": "stream",
          "text": [
            "The factorial of 10 is 3628800\n"
          ],
          "name": "stdout"
        }
      ]
    },
    {
      "cell_type": "markdown",
      "metadata": {
        "id": "Idpj8N3kR73K"
      },
      "source": [
        "## Display the multiplication Table"
      ]
    },
    {
      "cell_type": "code",
      "metadata": {
        "colab": {
          "base_uri": "https://localhost:8080/"
        },
        "id": "_Q_ITQ2TzfUk",
        "outputId": "c6686b15-ebec-458c-c05c-9c26ae97336f"
      },
      "source": [
        "num = 12\r\n",
        "# Iterate 10 times from i = 1 to 10\r\n",
        "for i in range(1, 13):\r\n",
        "   print(num, 'x', i, '=', num*i)"
      ],
      "execution_count": null,
      "outputs": [
        {
          "output_type": "stream",
          "text": [
            "12 x 1 = 12\n",
            "12 x 2 = 24\n",
            "12 x 3 = 36\n",
            "12 x 4 = 48\n",
            "12 x 5 = 60\n",
            "12 x 6 = 72\n",
            "12 x 7 = 84\n",
            "12 x 8 = 96\n",
            "12 x 9 = 108\n",
            "12 x 10 = 120\n",
            "12 x 11 = 132\n",
            "12 x 12 = 144\n"
          ],
          "name": "stdout"
        }
      ]
    },
    {
      "cell_type": "markdown",
      "metadata": {
        "id": "yruoh9acTlLt"
      },
      "source": [
        "## Check Armstrong Number\r\n",
        "\r\n",
        "A positive integer is called an Armstrong number of order n if\r\n",
        "\r\n",
        "abcd... = an + bn + cn + dn + ... /n\r\n",
        "\r\n",
        "153 = 1*1*1 + 5*5*5 + 3*3*3  // 153 is an Armstrong number."
      ]
    },
    {
      "cell_type": "code",
      "metadata": {
        "colab": {
          "base_uri": "https://localhost:8080/"
        },
        "id": "tjfrC4_7Tk5m",
        "outputId": "a5100f9a-d966-4d58-ea20-4b412de45673"
      },
      "source": [
        "num = int(input(\"Enter a number: \"))\r\n",
        "\r\n",
        "# initialize sum\r\n",
        "sum = 0\r\n",
        "\r\n",
        "# find the sum of the cube of each digit\r\n",
        "temp = num\r\n",
        "while temp > 0:\r\n",
        "   digit = temp % 10\r\n",
        "   sum += digit ** 3\r\n",
        "   temp //= 10\r\n",
        "\r\n",
        "# display the result\r\n",
        "if num == sum:\r\n",
        "   print(num,\"is an Armstrong number\")\r\n",
        "else:\r\n",
        "   print(num,\"is not an Armstrong number\")"
      ],
      "execution_count": null,
      "outputs": [
        {
          "output_type": "stream",
          "text": [
            "Enter a number: 255\n",
            "255 is not an Armstrong number\n"
          ],
          "name": "stdout"
        }
      ]
    },
    {
      "cell_type": "markdown",
      "metadata": {
        "id": "hsXef583Y2BL"
      },
      "source": [
        "## Find the Sum of Natural Numbers"
      ]
    },
    {
      "cell_type": "code",
      "metadata": {
        "colab": {
          "base_uri": "https://localhost:8080/"
        },
        "id": "lIr5M-z0zfR9",
        "outputId": "ac2ca7f7-ca85-4bcf-e4c0-100ec591cbad"
      },
      "source": [
        "num = 16\r\n",
        "\r\n",
        "if num < 0:\r\n",
        "   print(\"Enter a positive number\")\r\n",
        "else:\r\n",
        "   sum = 0\r\n",
        "   # use while loop to iterate until zero\r\n",
        "   while(num > 0):\r\n",
        "       sum += num\r\n",
        "       num -= 1\r\n",
        "   print(\"The sum is\", sum)"
      ],
      "execution_count": null,
      "outputs": [
        {
          "output_type": "stream",
          "text": [
            "The sum is 136\n"
          ],
          "name": "stdout"
        }
      ]
    },
    {
      "cell_type": "code",
      "metadata": {
        "id": "XRrU_TbLzfPy"
      },
      "source": [
        ""
      ],
      "execution_count": null,
      "outputs": []
    },
    {
      "cell_type": "code",
      "metadata": {
        "id": "4xZWl4hfzfNS"
      },
      "source": [
        ""
      ],
      "execution_count": null,
      "outputs": []
    },
    {
      "cell_type": "code",
      "metadata": {
        "id": "ytlj0mcjzfKr"
      },
      "source": [
        ""
      ],
      "execution_count": null,
      "outputs": []
    },
    {
      "cell_type": "code",
      "metadata": {
        "id": "tdi8Y7BDzfIK"
      },
      "source": [
        ""
      ],
      "execution_count": null,
      "outputs": []
    },
    {
      "cell_type": "code",
      "metadata": {
        "id": "LHD352EXzfFr"
      },
      "source": [
        ""
      ],
      "execution_count": null,
      "outputs": []
    },
    {
      "cell_type": "code",
      "metadata": {
        "id": "yRaXxVr2zfDD"
      },
      "source": [
        ""
      ],
      "execution_count": null,
      "outputs": []
    },
    {
      "cell_type": "code",
      "metadata": {
        "id": "5HWZcMobzfAS"
      },
      "source": [
        ""
      ],
      "execution_count": null,
      "outputs": []
    },
    {
      "cell_type": "code",
      "metadata": {
        "id": "ZsaTePcDze3j"
      },
      "source": [
        ""
      ],
      "execution_count": null,
      "outputs": []
    }
  ]
}