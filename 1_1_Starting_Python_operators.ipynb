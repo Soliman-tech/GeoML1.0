{
  "nbformat": 4,
  "nbformat_minor": 0,
  "metadata": {
    "colab": {
      "name": "1.1 Starting Python_operators.ipynb",
      "provenance": [],
      "collapsed_sections": [],
      "toc_visible": true
    },
    "kernelspec": {
      "name": "python3",
      "display_name": "Python 3"
    }
  },
  "cells": [
    {
      "cell_type": "markdown",
      "metadata": {
        "id": "c60lSUUkY8JS"
      },
      "source": [
        "## Arithmetic operators"
      ]
    },
    {
      "cell_type": "code",
      "metadata": {
        "id": "Z6EDa6GZY8JU",
        "colab": {
          "base_uri": "https://localhost:8080/"
        },
        "outputId": "a2c6bf92-0184-40f6-e22f-9305d7b248f9"
      },
      "source": [
        "# Examples of Arithmetic Operator \n",
        "a = 9\n",
        "b = 4\n",
        "\n",
        "# Addition of numbers \n",
        "add = a + b \n",
        "# Subtraction of numbers \n",
        "sub = a - b \n",
        "# Multiplication of number \n",
        "mul = a * b \n",
        "# Division(float) of number \n",
        "div1 = a / b \n",
        "# Division(floor) of number \n",
        "div2 = a // b \n",
        "# Modulo of both number \n",
        "mod = a % b \n",
        "\n",
        "# print results \n",
        "print(add) \n",
        "print(sub) \n",
        "print(mul) \n",
        "print(div1) \n",
        "print(div2) \n",
        "print(mod)"
      ],
      "execution_count": null,
      "outputs": [
        {
          "output_type": "stream",
          "text": [
            "13\n",
            "5\n",
            "36\n",
            "2.25\n",
            "2\n",
            "1\n"
          ],
          "name": "stdout"
        }
      ]
    },
    {
      "cell_type": "markdown",
      "metadata": {
        "id": "_1dk-V5UY8Jb"
      },
      "source": [
        "## Relational Operators"
      ]
    },
    {
      "cell_type": "code",
      "metadata": {
        "id": "jU8RRU0-Y8Jc",
        "colab": {
          "base_uri": "https://localhost:8080/"
        },
        "outputId": "a4977a10-2c68-4a4f-cc34-68139f39b2f5"
      },
      "source": [
        "# Examples of Relational Operators \n",
        "a = 13\n",
        "b = 33\n",
        "\n",
        "# a > b is False \n",
        "print(a > b) \n",
        "\n",
        "# a < b is True \n",
        "print(a < b) \n",
        "\n",
        "# a == b is False \n",
        "print(a == b) \n",
        "\n",
        "# a != b is True \n",
        "print(a != b) \n",
        "\n",
        "# a >= b is False \n",
        "print(a >= b) \n",
        "\n",
        "# a <= b is True \n",
        "print(a <= b) "
      ],
      "execution_count": null,
      "outputs": [
        {
          "output_type": "stream",
          "text": [
            "False\n",
            "True\n",
            "False\n",
            "True\n",
            "False\n",
            "True\n"
          ],
          "name": "stdout"
        }
      ]
    },
    {
      "cell_type": "markdown",
      "metadata": {
        "id": "cMZMx7BvZbPV"
      },
      "source": [
        "#Logical operators"
      ]
    },
    {
      "cell_type": "code",
      "metadata": {
        "id": "dBz6lZ3JY8Ji",
        "colab": {
          "base_uri": "https://localhost:8080/"
        },
        "outputId": "9e7d7cdf-17f5-40a7-bb34-07852e96489d"
      },
      "source": [
        "# Examples of Logical Operator \n",
        "a = 9\n",
        "b = 10\n",
        "c = -10\n",
        "   \n",
        "if a > 0 and b > 0: \n",
        "    print(\"The numbers are greater than 0\") \n",
        "  \n",
        "if a > 0 and b > 0 or c > 0: \n",
        "    print(\"The numbers are greater than 0\") \n",
        "else: \n",
        "    print(\"Atleast one number is not greater than 0\")"
      ],
      "execution_count": 13,
      "outputs": [
        {
          "output_type": "stream",
          "text": [
            "The numbers are greater than 0\n",
            "The numbers are greater than 0\n"
          ],
          "name": "stdout"
        }
      ]
    },
    {
      "cell_type": "markdown",
      "metadata": {
        "id": "y19FKjywY8Jq"
      },
      "source": [
        "# Special operators"
      ]
    },
    {
      "cell_type": "markdown",
      "metadata": {
        "id": "foF_47kKY8Jr"
      },
      "source": [
        "* Membership operators"
      ]
    },
    {
      "cell_type": "code",
      "metadata": {
        "id": "L527_xR8Y8Jt",
        "colab": {
          "base_uri": "https://localhost:8080/"
        },
        "outputId": "6998e4f5-6e1f-48d3-cfac-9443ce7ece23"
      },
      "source": [
        "# Examples of Membership operator \n",
        "x = 'hello world'\n",
        "y = [1,2,3,4]\n",
        "\n",
        "\n",
        "print('w' in x) \n",
        "\n",
        "print('ee' not in x) \n",
        "\n",
        "print('ll' not in x) \n",
        "\n",
        "print(3 in y) \n",
        "\n",
        "print('b' in y) "
      ],
      "execution_count": null,
      "outputs": [
        {
          "output_type": "stream",
          "text": [
            "True\n",
            "True\n",
            "False\n",
            "True\n",
            "False\n"
          ],
          "name": "stdout"
        }
      ]
    },
    {
      "cell_type": "markdown",
      "metadata": {
        "id": "GwKdVjP1Y8J0"
      },
      "source": [
        "# Any & All in Python"
      ]
    },
    {
      "cell_type": "code",
      "metadata": {
        "id": "LpYV1mYEY8J2",
        "colab": {
          "base_uri": "https://localhost:8080/"
        },
        "outputId": "5b8d5439-950b-490f-fc0e-290f9d86a66e"
      },
      "source": [
        "# Any : Returns true if any of the items is True \n",
        "\n",
        "# Since all are false, false is returned \n",
        "print (any([not True, False, 7>10]))\n",
        "\n",
        "# Here the method will short-circuit at the \n",
        "# second item (True) and will return True. \n",
        "print (any([False, True, 8<2])) "
      ],
      "execution_count": null,
      "outputs": [
        {
          "output_type": "stream",
          "text": [
            "False\n",
            "True\n"
          ],
          "name": "stdout"
        }
      ]
    },
    {
      "cell_type": "code",
      "metadata": {
        "id": "MuozxgX_Y8J6",
        "colab": {
          "base_uri": "https://localhost:8080/"
        },
        "outputId": "8d6c632b-bea5-4bf7-9798-f9b8b5f801d3"
      },
      "source": [
        "# All : Returns true if all of the items are True\n",
        "print (all([not True, False, 7>10]))\n",
        "print (all([not False, True, 8>=2]))"
      ],
      "execution_count": null,
      "outputs": [
        {
          "output_type": "stream",
          "text": [
            "False\n",
            "True\n"
          ],
          "name": "stdout"
        }
      ]
    }
  ]
}