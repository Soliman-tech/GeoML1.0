{
  "nbformat": 4,
  "nbformat_minor": 0,
  "metadata": {
    "colab": {
      "name": "1.3 Starting Python_Functions.ipynb",
      "provenance": [],
      "collapsed_sections": [],
      "authorship_tag": "ABX9TyMNOl2cr2zQDCvA8lBx6I1I"
    },
    "kernelspec": {
      "name": "python3",
      "display_name": "Python 3"
    }
  },
  "cells": [
    {
      "cell_type": "markdown",
      "metadata": {
        "id": "BbP55O3lcgcG"
      },
      "source": [
        "# functiom strucure in python"
      ]
    },
    {
      "cell_type": "code",
      "metadata": {
        "id": "T3qdzTNccl8X",
        "colab": {
          "base_uri": "https://localhost:8080/"
        },
        "outputId": "3508fe05-e555-4530-844f-4ed477a6974c"
      },
      "source": [
        "# A simple Python function to check \n",
        "# whether x is even or odd \n",
        "def evenOdd( x ): \n",
        "    if (x % 2 == 0): \n",
        "        print (\"even\")\n",
        "    else: \n",
        "        print (\"odd\")\n",
        "\n",
        "# Driver code\n",
        "# in function call , you type function name and send parameters to it inside () \n",
        "evenOdd(2)\n",
        "evenOdd(3)"
      ],
      "execution_count": 4,
      "outputs": [
        {
          "output_type": "stream",
          "text": [
            "even\n",
            "odd\n"
          ],
          "name": "stdout"
        }
      ]
    },
    {
      "cell_type": "code",
      "metadata": {
        "id": "hiXNYqB_PeKk"
      },
      "source": [
        "def velocity (distance =100 , time = 20):\r\n",
        "  '''\r\n",
        "    return velocity to get velocity\r\n",
        "  '''\r\n",
        "  velocity = distance / time\r\n",
        "  return velocity , distance "
      ],
      "execution_count": 36,
      "outputs": []
    },
    {
      "cell_type": "code",
      "metadata": {
        "colab": {
          "base_uri": "https://localhost:8080/"
        },
        "id": "3IgemraMPyv4",
        "outputId": "6e3c5014-4d10-47b8-b606-5cc95aea7378"
      },
      "source": [
        "velocity(50.0,10)"
      ],
      "execution_count": 35,
      "outputs": [
        {
          "output_type": "execute_result",
          "data": {
            "text/plain": [
              "(5.0, 50.0)"
            ]
          },
          "metadata": {
            "tags": []
          },
          "execution_count": 35
        }
      ]
    },
    {
      "cell_type": "code",
      "metadata": {
        "id": "_auChCVQVKiU"
      },
      "source": [
        "range()"
      ],
      "execution_count": null,
      "outputs": []
    },
    {
      "cell_type": "code",
      "metadata": {
        "id": "PQ9U0Fstco73"
      },
      "source": [
        "# another example to demonestrate functions usage in python\n",
        "# function to receive a list of integers and cube every item of it and return new list with cubes\n",
        "# for example [2,3,4] >>> out : [8,27,64]\n",
        "\n",
        "# first thing we define cube function\n",
        "\n",
        "def cube(n):\n",
        "    '''\n",
        "    return cube of x\n",
        "    for example input x >>> out x^3\n",
        "    '''\n",
        "    return n**3\n",
        "\n",
        "def cubelist(items):\n",
        "    '''\n",
        "    cube every item in list items and return new list\n",
        "    '''\n",
        "    if not isinstance(items, list): # note isinstance(objecct,type) is used to check if object is of specefic type or not\n",
        "        return 'only list is supported'\n",
        "    cube_new_list=[] # empty list\n",
        "    for item in items:\n",
        "        cube_new_list.append(cube(item))\n",
        "    return cube_new_list"
      ],
      "execution_count": null,
      "outputs": []
    },
    {
      "cell_type": "code",
      "metadata": {
        "id": "qvqSUoiGcr7E",
        "colab": {
          "base_uri": "https://localhost:8080/"
        },
        "outputId": "08c88830-1565-4b50-a4e6-b5ced584f1e4"
      },
      "source": [
        "mylist=[2,3,4,5]\n",
        "print(cubelist(100))\n",
        "print(cubelist(mylist))"
      ],
      "execution_count": null,
      "outputs": [
        {
          "output_type": "stream",
          "text": [
            "only list is supported\n",
            "[8, 27, 64, 125]\n"
          ],
          "name": "stdout"
        }
      ]
    },
    {
      "cell_type": "markdown",
      "metadata": {
        "id": "W3r07ddvcvWY"
      },
      "source": [
        "`Default arguments:\n",
        "A default argument is a parameter that assumes a default value if a value is not provided in the function call for that argument.The following example illustrates Default arguments`"
      ]
    },
    {
      "cell_type": "code",
      "metadata": {
        "id": "XvN5xxHJcw9z",
        "colab": {
          "base_uri": "https://localhost:8080/"
        },
        "outputId": "8458ffe3-527e-4bbd-cfe4-0e174a27eb84"
      },
      "source": [
        "# Python program to demonstrate \n",
        "# default arguments \n",
        "def myFun(x, y=50): \n",
        "    print(\"x: \", x) \n",
        "    print(\"y: \", y) \n",
        "\n",
        "# Driver code (We call myFun() with only \n",
        "# argument) \n",
        "myFun(15)"
      ],
      "execution_count": null,
      "outputs": [
        {
          "output_type": "stream",
          "text": [
            "x:  15\n",
            "y:  50\n"
          ],
          "name": "stdout"
        }
      ]
    },
    {
      "cell_type": "markdown",
      "metadata": {
        "id": "Uy_-3MZac1At"
      },
      "source": [
        "Anonymous functions: In Python, anonymous function means that a function is without a name. As we already know that def keyword is used to define the normal functions and the lambda keyword is used to create anonymous functions\n",
        "\n",
        "Lambda definition does not include a “return” statement, it always contains an expression which is returned. We can also put a lambda definition anywhere a function is expected, and we don’t have to assign it to a variable at all. This is the simplicity of lambda functions\n"
      ]
    },
    {
      "cell_type": "code",
      "metadata": {
        "id": "1JVwlO4DczBL",
        "colab": {
          "base_uri": "https://localhost:8080/"
        },
        "outputId": "75d3df65-d61b-4e0f-b02f-5f0074cad328"
      },
      "source": [
        "# Python code to illustrate cube of a number \n",
        "# using labmda function \n",
        "\n",
        "cube = lambda x: x*x*x \n",
        "print(cube(7))"
      ],
      "execution_count": null,
      "outputs": [
        {
          "output_type": "stream",
          "text": [
            "343\n"
          ],
          "name": "stdout"
        }
      ]
    },
    {
      "cell_type": "markdown",
      "metadata": {
        "id": "ZSh5_cKec5WB"
      },
      "source": [
        "Lambda functions can be used along with built-in functions like filter(), map() and reduce()."
      ]
    },
    {
      "cell_type": "code",
      "metadata": {
        "id": "LWaAdB5Wc6V4",
        "colab": {
          "base_uri": "https://localhost:8080/"
        },
        "outputId": "00987b66-cc40-43cc-de16-acf771310ca9"
      },
      "source": [
        "# Python code to illustrate \n",
        "# filter() with lambda() \n",
        "li = [5, 7, 22, 97, 54, 62, 77, 23, 73, 61] \n",
        "final_list = list(filter(lambda x: (x%2 != 0) , li)) # filter numbers from li if it is only even\n",
        "print(final_list)"
      ],
      "execution_count": null,
      "outputs": [
        {
          "output_type": "stream",
          "text": [
            "[5, 7, 97, 77, 23, 73, 61]\n"
          ],
          "name": "stdout"
        }
      ]
    },
    {
      "cell_type": "code",
      "metadata": {
        "id": "eO9mxScCc8cp",
        "colab": {
          "base_uri": "https://localhost:8080/"
        },
        "outputId": "6f7acfb6-26aa-4c8e-9e8c-e655c3cc629a"
      },
      "source": [
        "# Python code to illustrate\n",
        "# map() with lambda() \n",
        "# to get double of a list. \n",
        "li = [5, 7, 22, 97, 54, 62, 77, 23, 73, 61] \n",
        "final_list = list(map(lambda x: x*2 , li)) \n",
        "print(final_list) "
      ],
      "execution_count": null,
      "outputs": [
        {
          "output_type": "stream",
          "text": [
            "[10, 14, 44, 194, 108, 124, 154, 46, 146, 122]\n"
          ],
          "name": "stdout"
        }
      ]
    }
  ]
}