{
  "nbformat": 4,
  "nbformat_minor": 0,
  "metadata": {
    "colab": {
      "name": "Assignmen-1 GCOS Calculation.ipynb",
      "provenance": [],
      "collapsed_sections": [],
      "authorship_tag": "ABX9TyNNn3L40HcstKTc3osMqkX3"
    },
    "kernelspec": {
      "name": "python3",
      "display_name": "Python 3"
    }
  },
  "cells": [
    {
      "cell_type": "markdown",
      "metadata": {
        "id": "srzs-faa4JNC"
      },
      "source": [
        "# Geological Chance of Success\r\n",
        "\r\n",
        "write a program that take the chance of success from the user using input() function and then you store it in a dictionary / list then calculate the GCOS using the following equation :\r\n",
        "\r\n",
        "GCOS =  Reservoir_COS * Source rock_COS * Closure_COS * Timing_Mingration_COS * Sealing_Capacity_COS\r\n",
        "\r\n",
        "the results should be in percentage like 50% "
      ]
    },
    {
      "cell_type": "code",
      "metadata": {
        "id": "exak73p55ERE"
      },
      "source": [
        ""
      ],
      "execution_count": null,
      "outputs": []
    }
  ]
}