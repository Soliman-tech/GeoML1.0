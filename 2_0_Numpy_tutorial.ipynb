{
  "nbformat": 4,
  "nbformat_minor": 0,
  "metadata": {
    "kernelspec": {
      "display_name": "Python 3",
      "language": "python",
      "name": "python3"
    },
    "language_info": {
      "codemirror_mode": {
        "name": "ipython",
        "version": 3
      },
      "file_extension": ".py",
      "mimetype": "text/x-python",
      "name": "python",
      "nbconvert_exporter": "python",
      "pygments_lexer": "ipython3",
      "version": "3.7.4"
    },
    "colab": {
      "name": "2.0 Numpy-tutorial.ipynb",
      "provenance": [],
      "collapsed_sections": []
    }
  },
  "cells": [
    {
      "cell_type": "code",
      "metadata": {
        "id": "94bASu_C1PJz"
      },
      "source": [
        "import numpy as np\n",
        "from IPython.display import display"
      ],
      "execution_count": 2,
      "outputs": []
    },
    {
      "cell_type": "markdown",
      "metadata": {
        "id": "EgxpmQPP4JTh"
      },
      "source": [
        "## Benefits of using Numpy arrays\r\n",
        "\r\n",
        "Numpy arrays offer the following benefits over Python lists for operating on numerical data:\r\n",
        "\r\n",
        "- **Ease of use**: You can write small, concise, and intuitive mathematical expressions. rather than using loops & custom functions.\r\n",
        "- **Performance**: Numpy operations and functions are implemented internally in C++, which makes them much faster than using Python statements & loops that are interpreted at runtime\r\n",
        "\r\n",
        "Here's a comparison of dot products performed using Python loops vs. Numpy arrays on two vectors with a million elements each."
      ]
    },
    {
      "cell_type": "code",
      "metadata": {
        "id": "HFN5B7Ok4YXW"
      },
      "source": [
        "# Python lists\r\n",
        "arr1 = list(range(1000000))\r\n",
        "arr2 = list(range(1000000, 2000000))\r\n",
        "\r\n",
        "# Numpy arrays\r\n",
        "arr1_np = np.array(arr1)\r\n",
        "arr2_np = np.array(arr2)"
      ],
      "execution_count": null,
      "outputs": []
    },
    {
      "cell_type": "code",
      "metadata": {
        "colab": {
          "base_uri": "https://localhost:8080/"
        },
        "id": "4pyCKrDD4dZR",
        "outputId": "98bf7ee9-38d4-41c5-c247-5b04c9a42c8b"
      },
      "source": [
        "%%time\r\n",
        "result = 0\r\n",
        "for x1, x2 in zip(arr1, arr2):\r\n",
        "    result += x1*x2\r\n",
        "\r\n",
        "print(result)"
      ],
      "execution_count": null,
      "outputs": [
        {
          "output_type": "stream",
          "text": [
            "833332333333500000\n",
            "CPU times: user 186 ms, sys: 987 µs, total: 187 ms\n",
            "Wall time: 187 ms\n"
          ],
          "name": "stdout"
        }
      ]
    },
    {
      "cell_type": "code",
      "metadata": {
        "colab": {
          "base_uri": "https://localhost:8080/"
        },
        "id": "tpAcSSxw4iIH",
        "outputId": "0a609fb7-654a-4934-bf85-da90bf9c53d8"
      },
      "source": [
        "%%time\r\n",
        "np.dot(arr1_np, arr2_np)"
      ],
      "execution_count": null,
      "outputs": [
        {
          "output_type": "stream",
          "text": [
            "CPU times: user 2.49 ms, sys: 98 µs, total: 2.58 ms\n",
            "Wall time: 2.28 ms\n"
          ],
          "name": "stdout"
        },
        {
          "output_type": "execute_result",
          "data": {
            "text/plain": [
              "833332333333500000"
            ]
          },
          "metadata": {
            "tags": []
          },
          "execution_count": 4
        }
      ]
    },
    {
      "cell_type": "markdown",
      "metadata": {
        "id": "N9hh0Uqg1PJ6"
      },
      "source": [
        "# Creating a NumPy Array"
      ]
    },
    {
      "cell_type": "code",
      "metadata": {
        "id": "W1g3LNEc1PJ6",
        "colab": {
          "base_uri": "https://localhost:8080/"
        },
        "outputId": "28598ffd-3e99-4ae7-e24d-3fecfa50abd8"
      },
      "source": [
        "# we can create a numpy array (matrix and vectors) using array method\n",
        "x = [2, 3, 4, 5, 6]  \n",
        "np_array_vect = np.array([2, 3, 4, 5, 6]) # row vector of five elements\n",
        "print(\"vector\")\n",
        "print(\"type : {} , shape : {} \".format(type(np_array_vect),np_array_vect.shape))"
      ],
      "execution_count": 3,
      "outputs": [
        {
          "output_type": "stream",
          "text": [
            "vector\n",
            "type : <class 'numpy.ndarray'> , shape : (5,) \n"
          ],
          "name": "stdout"
        }
      ]
    },
    {
      "cell_type": "code",
      "metadata": {
        "id": "CNLrn2px1PKA",
        "colab": {
          "base_uri": "https://localhost:8080/"
        },
        "outputId": "8be517d0-68d3-4d08-97a8-53f639162544"
      },
      "source": [
        "# creating a matrix\n",
        "matrix = np.array([[2,4],\n",
        "                   [8,10],\n",
        "                   [14,16]],dtype=np.float)\n",
        "print(\"Shape \",matrix.shape,\"size \",matrix.size) # matrix shape (rows , columns)\n",
        "matrix"
      ],
      "execution_count": null,
      "outputs": [
        {
          "output_type": "stream",
          "text": [
            "Shape  (3, 2) size  6\n"
          ],
          "name": "stdout"
        },
        {
          "output_type": "execute_result",
          "data": {
            "text/plain": [
              "array([[ 2.,  4.],\n",
              "       [ 8., 10.],\n",
              "       [14., 16.]])"
            ]
          },
          "metadata": {
            "tags": []
          },
          "execution_count": 6
        }
      ]
    },
    {
      "cell_type": "markdown",
      "metadata": {
        "id": "UxM8Aa2yMrXL"
      },
      "source": [
        "# Numerical Computing with Python and Numpy\r\n",
        "\r\n",
        "![](https://i.imgur.com/mg8O3kd.png)"
      ]
    },
    {
      "cell_type": "code",
      "metadata": {
        "id": "if8Stxf01PKE",
        "colab": {
          "base_uri": "https://localhost:8080/",
          "height": 158
        },
        "outputId": "3f7fe56f-9cc8-4061-a408-50c16f96cee3"
      },
      "source": [
        "# creating matrix using zeros method\n",
        "zeros_vect = np.zeros(7) # vector of 7 zeros\n",
        "display('zeros_vect',zeros_vect)\n",
        "zeros_matrix = np.zeros((2,2,3)) # 5 by 4 matrix of zeros\n",
        "display('zeros_matrix')\n",
        "display(zeros_matrix)"
      ],
      "execution_count": 27,
      "outputs": [
        {
          "output_type": "display_data",
          "data": {
            "application/vnd.google.colaboratory.intrinsic+json": {
              "type": "string"
            },
            "text/plain": [
              "'zeros_vect'"
            ]
          },
          "metadata": {
            "tags": []
          }
        },
        {
          "output_type": "display_data",
          "data": {
            "text/plain": [
              "array([0., 0., 0., 0., 0., 0., 0.])"
            ]
          },
          "metadata": {
            "tags": []
          }
        },
        {
          "output_type": "display_data",
          "data": {
            "application/vnd.google.colaboratory.intrinsic+json": {
              "type": "string"
            },
            "text/plain": [
              "'zeros_matrix'"
            ]
          },
          "metadata": {
            "tags": []
          }
        },
        {
          "output_type": "display_data",
          "data": {
            "text/plain": [
              "array([[[0., 0., 0.],\n",
              "        [0., 0., 0.]],\n",
              "\n",
              "       [[0., 0., 0.],\n",
              "        [0., 0., 0.]]])"
            ]
          },
          "metadata": {
            "tags": []
          }
        }
      ]
    },
    {
      "cell_type": "code",
      "metadata": {
        "colab": {
          "base_uri": "https://localhost:8080/"
        },
        "id": "MaMZYYZAEHnc",
        "outputId": "ba43080a-57fd-4f95-e100-cdc2028b2b82"
      },
      "source": [
        "zeros_matrix.size"
      ],
      "execution_count": 32,
      "outputs": [
        {
          "output_type": "execute_result",
          "data": {
            "text/plain": [
              "12"
            ]
          },
          "metadata": {
            "tags": []
          },
          "execution_count": 32
        }
      ]
    },
    {
      "cell_type": "code",
      "metadata": {
        "id": "7PziActn1PKJ",
        "colab": {
          "base_uri": "https://localhost:8080/",
          "height": 210
        },
        "outputId": "6e10366b-3437-459a-fa2f-f57deab0abff"
      },
      "source": [
        "# creating matrix using ones method\n",
        "zeros_vect = np.ones(8)*20 # vector of 7 ones\n",
        "print(\"ones_vect\")\n",
        "display(zeros_vect)\n",
        "zeros_matrix = np.ones((8,8))*53\n",
        "print(\"ones_matrix\")\n",
        "display(zeros_matrix)"
      ],
      "execution_count": 37,
      "outputs": [
        {
          "output_type": "stream",
          "text": [
            "ones_vect\n"
          ],
          "name": "stdout"
        },
        {
          "output_type": "display_data",
          "data": {
            "text/plain": [
              "array([20., 20., 20., 20., 20., 20., 20., 20.])"
            ]
          },
          "metadata": {
            "tags": []
          }
        },
        {
          "output_type": "stream",
          "text": [
            "ones_matrix\n"
          ],
          "name": "stdout"
        },
        {
          "output_type": "display_data",
          "data": {
            "text/plain": [
              "array([[53., 53., 53., 53., 53., 53., 53., 53.],\n",
              "       [53., 53., 53., 53., 53., 53., 53., 53.],\n",
              "       [53., 53., 53., 53., 53., 53., 53., 53.],\n",
              "       [53., 53., 53., 53., 53., 53., 53., 53.],\n",
              "       [53., 53., 53., 53., 53., 53., 53., 53.],\n",
              "       [53., 53., 53., 53., 53., 53., 53., 53.],\n",
              "       [53., 53., 53., 53., 53., 53., 53., 53.],\n",
              "       [53., 53., 53., 53., 53., 53., 53., 53.]])"
            ]
          },
          "metadata": {
            "tags": []
          }
        }
      ]
    },
    {
      "cell_type": "code",
      "metadata": {
        "colab": {
          "base_uri": "https://localhost:8080/"
        },
        "id": "0l5WLh1xG5O9",
        "outputId": "2be7ebcd-57be-42e2-ebb9-9d2607bd6910"
      },
      "source": [
        "eye_Matrix = np.eye(8,8)\r\n",
        "eye_Matrix"
      ],
      "execution_count": 41,
      "outputs": [
        {
          "output_type": "execute_result",
          "data": {
            "text/plain": [
              "array([[0., 0., 0., 0., 0., 1., 0., 0.],\n",
              "       [0., 0., 0., 0., 0., 0., 1., 0.],\n",
              "       [0., 0., 0., 0., 0., 0., 0., 1.],\n",
              "       [0., 0., 0., 0., 0., 0., 0., 0.],\n",
              "       [0., 0., 0., 0., 0., 0., 0., 0.],\n",
              "       [0., 0., 0., 0., 0., 0., 0., 0.],\n",
              "       [0., 0., 0., 0., 0., 0., 0., 0.],\n",
              "       [0., 0., 0., 0., 0., 0., 0., 0.]])"
            ]
          },
          "metadata": {
            "tags": []
          },
          "execution_count": 41
        }
      ]
    },
    {
      "cell_type": "code",
      "metadata": {
        "id": "YqIZwLPB1PKQ",
        "colab": {
          "base_uri": "https://localhost:8080/",
          "height": 122
        },
        "outputId": "12e42e07-8e88-4892-8e64-de9047ddae55"
      },
      "source": [
        "# using rand method\n",
        "randomuni = np.random.rand(2, 3) # generates 2 by 3 matrix uniformly distributed \n",
        "print(\"random matrix uniform distributed\")\n",
        "display(randomuni)\n",
        "# uniform ditribution : http://mathworld.wolfram.com/UniformDistribution.html\n",
        "randomnorm = np.random.randn(2, 3)\n",
        "# normal ditribution : http://mathworld.wolfram.com/NormalDistribution.html\n",
        "print(\"random matrix normally distributed\")\n",
        "display(randomnorm)"
      ],
      "execution_count": 44,
      "outputs": [
        {
          "output_type": "stream",
          "text": [
            "random matrix uniform distributed\n"
          ],
          "name": "stdout"
        },
        {
          "output_type": "display_data",
          "data": {
            "text/plain": [
              "array([[0.82148921, 0.70164337, 0.45841543],\n",
              "       [0.59631409, 0.38231631, 0.1770205 ]])"
            ]
          },
          "metadata": {
            "tags": []
          }
        },
        {
          "output_type": "stream",
          "text": [
            "random matrix normally distributed\n"
          ],
          "name": "stdout"
        },
        {
          "output_type": "display_data",
          "data": {
            "text/plain": [
              "array([[-0.64408701, -0.96299073,  0.99900857],\n",
              "       [-1.12302639,  0.84600929, -0.76383171]])"
            ]
          },
          "metadata": {
            "tags": []
          }
        }
      ]
    },
    {
      "cell_type": "code",
      "metadata": {
        "id": "YBPImJIN1PKY",
        "colab": {
          "base_uri": "https://localhost:8080/",
          "height": 117
        },
        "outputId": "2b44e4b0-8819-42fe-fbd0-1eae2180d469"
      },
      "source": [
        "# create matrix of random ints in specefic range \n",
        "# check : https://docs.scipy.org/doc/numpy/reference/generated/numpy.random.randint.html#numpy.random.randint\n",
        "randomint = np.random.randint(low=5,high=20,size=(5,4))\n",
        "#randomint = np.random.randint(low=5,high=20,size=(5,4)).astype('float')\n",
        "print(\"random matrix of integers\")\n",
        "display(randomint)"
      ],
      "execution_count": null,
      "outputs": [
        {
          "output_type": "stream",
          "text": [
            "random matrix of integers\n"
          ],
          "name": "stdout"
        },
        {
          "output_type": "display_data",
          "data": {
            "text/plain": [
              "array([[ 9, 10, 11,  9],\n",
              "       [13,  5, 16,  5],\n",
              "       [19, 17, 14, 17],\n",
              "       [ 7,  6,  8, 15],\n",
              "       [ 9, 10, 16,  7]])"
            ]
          },
          "metadata": {
            "tags": []
          }
        }
      ]
    },
    {
      "cell_type": "markdown",
      "metadata": {
        "id": "n0ONe31B1PKd"
      },
      "source": [
        "# Array reshaping"
      ]
    },
    {
      "cell_type": "code",
      "metadata": {
        "id": "7a5-7ugF1PKe",
        "colab": {
          "base_uri": "https://localhost:8080/",
          "height": 230
        },
        "outputId": "0c31f373-5d30-4cca-d324-037997221196"
      },
      "source": [
        "# Reshape 1D to 2D Array\n",
        "nums = np.arange(1, 17)\n",
        "\n",
        "display(\"nums = \",nums)\n",
        "nums2 = nums.reshape(2, -1)\n",
        "print('nums reshaped intp 4 by 4 matrix')\n",
        "display(nums2)\n",
        "\n",
        "two_d = np.array([[2,3,4], [5,6,7]])\n",
        "\n",
        "display('two_d = ', two_d)\n",
        "\n",
        "flat=two_d.reshape(2,-1)\n",
        "display('two_d converted into flat = ', flat)\n",
        "\n",
        "print(\"two_d shape : {} flat shape : {}\".format(two_d.shape,flat.shape))\n",
        "\n",
        "# more examples : https://www.w3resource.com/numpy/manipulation/reshape.php"
      ],
      "execution_count": 57,
      "outputs": [
        {
          "output_type": "display_data",
          "data": {
            "application/vnd.google.colaboratory.intrinsic+json": {
              "type": "string"
            },
            "text/plain": [
              "'nums = '"
            ]
          },
          "metadata": {
            "tags": []
          }
        },
        {
          "output_type": "display_data",
          "data": {
            "text/plain": [
              "array([ 1,  2,  3,  4,  5,  6,  7,  8,  9, 10, 11, 12, 13, 14, 15, 16])"
            ]
          },
          "metadata": {
            "tags": []
          }
        },
        {
          "output_type": "stream",
          "text": [
            "nums reshaped intp 4 by 4 matrix\n"
          ],
          "name": "stdout"
        },
        {
          "output_type": "display_data",
          "data": {
            "text/plain": [
              "array([[ 1,  2,  3,  4,  5,  6,  7,  8],\n",
              "       [ 9, 10, 11, 12, 13, 14, 15, 16]])"
            ]
          },
          "metadata": {
            "tags": []
          }
        },
        {
          "output_type": "display_data",
          "data": {
            "application/vnd.google.colaboratory.intrinsic+json": {
              "type": "string"
            },
            "text/plain": [
              "'two_d = '"
            ]
          },
          "metadata": {
            "tags": []
          }
        },
        {
          "output_type": "display_data",
          "data": {
            "text/plain": [
              "array([[2, 3, 4],\n",
              "       [5, 6, 7]])"
            ]
          },
          "metadata": {
            "tags": []
          }
        },
        {
          "output_type": "display_data",
          "data": {
            "application/vnd.google.colaboratory.intrinsic+json": {
              "type": "string"
            },
            "text/plain": [
              "'two_d converted into flat = '"
            ]
          },
          "metadata": {
            "tags": []
          }
        },
        {
          "output_type": "display_data",
          "data": {
            "text/plain": [
              "array([[2, 3, 4],\n",
              "       [5, 6, 7]])"
            ]
          },
          "metadata": {
            "tags": []
          }
        },
        {
          "output_type": "stream",
          "text": [
            "two_d shape : (2, 3) flat shape : (2, 3)\n"
          ],
          "name": "stdout"
        }
      ]
    },
    {
      "cell_type": "code",
      "metadata": {
        "colab": {
          "base_uri": "https://localhost:8080/"
        },
        "id": "HoCqrSDYSweo",
        "outputId": "6d42a044-5a3e-4b1b-bdb4-ec1ccdcb846a"
      },
      "source": [
        "three_d = np.array([[[2,3,4], [5,6,7], [8,9,10]]])\r\n",
        "three_d.reshape(3,3)"
      ],
      "execution_count": 63,
      "outputs": [
        {
          "output_type": "execute_result",
          "data": {
            "text/plain": [
              "array([[ 2,  3,  4],\n",
              "       [ 5,  6,  7],\n",
              "       [ 8,  9, 10]])"
            ]
          },
          "metadata": {
            "tags": []
          },
          "execution_count": 63
        }
      ]
    },
    {
      "cell_type": "markdown",
      "metadata": {
        "id": "HJyhP--Y1PKi"
      },
      "source": [
        "# numpy array operations"
      ]
    },
    {
      "cell_type": "code",
      "metadata": {
        "id": "HBl6F-lk1PKj",
        "colab": {
          "base_uri": "https://localhost:8080/",
          "height": 385
        },
        "outputId": "3caf4505-c568-4f14-f7ce-aa89774dc306"
      },
      "source": [
        "Df = np.array([4352, 233, 3245, 256, 2394])\n",
        "print(\"average : \",Df.mean())\n",
        "print(\"sum : \",Df.sum())\n",
        "print(\"min : \",Df.min())\n",
        "print(\"max : \",Df.max())\n",
        "print(\"position of min value \",Df.argmin()) # position of the minimum value\n",
        "print(\"position of max value \",Df.argmax()) # position of the Maximum value\n",
        "\n",
        "# element wise operations\n",
        "twod = np.array(([10,2,3],[40,5,6],[7,80,9]))\n",
        "print(\"twod - 10\")\n",
        "display(twod-10)\n",
        "print(\"twod * 5\")\n",
        "display(twod * 5)\n",
        "print(\"log twod\")\n",
        "display(np.log(twod))\n",
        "print(\"exp twod\")\n",
        "display(np.exp(twod))"
      ],
      "execution_count": null,
      "outputs": [
        {
          "output_type": "stream",
          "text": [
            "average :  2096.0\n",
            "sum :  10480\n",
            "min :  233\n",
            "max :  4352\n",
            "position of min value  1\n",
            "position of max value  0\n",
            "twod - 10\n"
          ],
          "name": "stdout"
        },
        {
          "output_type": "display_data",
          "data": {
            "text/plain": [
              "array([[ 0, -8, -7],\n",
              "       [30, -5, -4],\n",
              "       [-3, 70, -1]])"
            ]
          },
          "metadata": {
            "tags": []
          }
        },
        {
          "output_type": "stream",
          "text": [
            "twod * 5\n"
          ],
          "name": "stdout"
        },
        {
          "output_type": "display_data",
          "data": {
            "text/plain": [
              "array([[ 50,  10,  15],\n",
              "       [200,  25,  30],\n",
              "       [ 35, 400,  45]])"
            ]
          },
          "metadata": {
            "tags": []
          }
        },
        {
          "output_type": "stream",
          "text": [
            "log twod\n"
          ],
          "name": "stdout"
        },
        {
          "output_type": "display_data",
          "data": {
            "text/plain": [
              "array([[2.30258509, 0.69314718, 1.09861229],\n",
              "       [3.68887945, 1.60943791, 1.79175947],\n",
              "       [1.94591015, 4.38202663, 2.19722458]])"
            ]
          },
          "metadata": {
            "tags": []
          }
        },
        {
          "output_type": "stream",
          "text": [
            "exp twod\n"
          ],
          "name": "stdout"
        },
        {
          "output_type": "display_data",
          "data": {
            "text/plain": [
              "array([[2.20264658e+04, 7.38905610e+00, 2.00855369e+01],\n",
              "       [2.35385267e+17, 1.48413159e+02, 4.03428793e+02],\n",
              "       [1.09663316e+03, 5.54062238e+34, 8.10308393e+03]])"
            ]
          },
          "metadata": {
            "tags": []
          }
        }
      ]
    },
    {
      "cell_type": "code",
      "metadata": {
        "id": "u55syljE1PKn",
        "colab": {
          "base_uri": "https://localhost:8080/"
        },
        "outputId": "65184ed3-2c34-4b53-8fdb-3e167737290d"
      },
      "source": [
        "# test whether none of the elements of a given array is zero\n",
        "x = np.array([1, 2, 3, 4])\n",
        "print(\"Original array:\")\n",
        "print(x)\n",
        "print(\"Test if none of the elements of the said array is zero:\")\n",
        "print(np.all(x))\n",
        "x = np.array([0, 1, 2, 3])\n",
        "print(\"Original array:\")\n",
        "print(x)\n",
        "print(\"Test if none of the elements of the said array is zero:\")\n",
        "print(np.all(x))"
      ],
      "execution_count": null,
      "outputs": [
        {
          "output_type": "stream",
          "text": [
            "Original array:\n",
            "[1 2 3 4]\n",
            "Test if none of the elements of the said array is zero:\n",
            "True\n",
            "Original array:\n",
            "[0 1 2 3]\n",
            "Test if none of the elements of the said array is zero:\n",
            "False\n"
          ],
          "name": "stdout"
        }
      ]
    },
    {
      "cell_type": "code",
      "metadata": {
        "id": "josbvRrk1PKq",
        "colab": {
          "base_uri": "https://localhost:8080/"
        },
        "outputId": "960c6fea-fb2c-4a04-d52a-8ab6638ea4c0"
      },
      "source": [
        "# test if any of the elements of a given array is non-zero\n",
        "x = np.array([1, 0, 0, 0])\n",
        "print(\"Original array:\")\n",
        "print(x)\n",
        "print(\"Test if any of the elements of a given array is non-zero:\")\n",
        "print(np.any(x))\n",
        "x = np.array([0, 0, 0, 0])\n",
        "print(\"Original array:\")\n",
        "print(x)\n",
        "print(\"Test if any of the elements of a given array is non-zero:\")\n",
        "print(np.any(x))"
      ],
      "execution_count": null,
      "outputs": [
        {
          "output_type": "stream",
          "text": [
            "Original array:\n",
            "[1 0 0 0]\n",
            "Test if any of the elements of a given array is non-zero:\n",
            "True\n",
            "Original array:\n",
            "[0 0 0 0]\n",
            "Test if any of the elements of a given array is non-zero:\n",
            "False\n"
          ],
          "name": "stdout"
        }
      ]
    },
    {
      "cell_type": "code",
      "metadata": {
        "id": "a-a_Ak9k1PKv",
        "colab": {
          "base_uri": "https://localhost:8080/"
        },
        "outputId": "5beff7fd-354c-4ee3-a9c3-a20dba15daef"
      },
      "source": [
        "# test element-wise for NaN of a given array\n",
        "a = np.array([1, 0, np.nan, 5,np.nan])\n",
        "print(\"Original array\")\n",
        "print(a)\n",
        "print(\"Test element-wise for NaN:\")\n",
        "print(np.isnan(a))\n",
        "print(np.sum(np.isnan(a))) # get how many nanas"
      ],
      "execution_count": null,
      "outputs": [
        {
          "output_type": "stream",
          "text": [
            "Original array\n",
            "[ 1.  0. nan  5. nan]\n",
            "Test element-wise for NaN:\n",
            "[False False  True False  True]\n",
            "2\n"
          ],
          "name": "stdout"
        }
      ]
    },
    {
      "cell_type": "code",
      "metadata": {
        "id": "PDONahg01PKz",
        "colab": {
          "base_uri": "https://localhost:8080/"
        },
        "outputId": "c2cb9b59-22e2-4332-adb7-7a0867c4c274"
      },
      "source": [
        "# element wise comparison\n",
        "x = np.array([3, 5])\n",
        "y = np.array([2, 5])\n",
        "print(\"Original numbers:\")\n",
        "print(x)\n",
        "print(y)\n",
        "print(\"Comparison - greater\")\n",
        "print(np.greater(x, y))\n",
        "print(\"Comparison - greater_equal\")\n",
        "print(np.greater_equal(x, y))\n",
        "print(\"Comparison - less\")\n",
        "print(np.less(x, y))\n",
        "print(\"Comparison - less_equal\")\n",
        "print(np.less_equal(x, y))"
      ],
      "execution_count": null,
      "outputs": [
        {
          "output_type": "stream",
          "text": [
            "Original numbers:\n",
            "[3 5]\n",
            "[2 5]\n",
            "Comparison - greater\n",
            "[ True False]\n",
            "Comparison - greater_equal\n",
            "[ True  True]\n",
            "Comparison - less\n",
            "[False False]\n",
            "Comparison - less_equal\n",
            "[False  True]\n"
          ],
          "name": "stdout"
        }
      ]
    },
    {
      "cell_type": "code",
      "metadata": {
        "id": "w0g3jfr11PK3",
        "colab": {
          "base_uri": "https://localhost:8080/"
        },
        "outputId": "35a820fc-0a82-4167-fb8f-e90c66974183"
      },
      "source": [
        "# np.sum ()\n",
        "x = np.array([[0,1],[2,3]])\n",
        "print(\"Original array:\")\n",
        "print(x)\n",
        "print(\"Sum of all elements:\")\n",
        "print(np.sum(x))\n",
        "print(\"Sum of each column:\")\n",
        "print(np.sum(x, axis=0))\n",
        "print(\"Sum of each row:\")\n",
        "print(np.sum(x, axis=1))"
      ],
      "execution_count": null,
      "outputs": [
        {
          "output_type": "stream",
          "text": [
            "Original array:\n",
            "[[0 1]\n",
            " [2 3]]\n",
            "Sum of all elements:\n",
            "6\n",
            "Sum of each column:\n",
            "[2 4]\n",
            "Sum of each row:\n",
            "[1 5]\n"
          ],
          "name": "stdout"
        }
      ]
    },
    {
      "cell_type": "code",
      "metadata": {
        "id": "w49mBnzm1PK6",
        "colab": {
          "base_uri": "https://localhost:8080/",
          "height": 140
        },
        "outputId": "f71875b5-dc7b-451b-ca79-cca1bdc7c1b4"
      },
      "source": [
        "# appending new rows and columns\n",
        "a = np.array([[1, 2, 3],[-1,-2,-3]])\n",
        "b = np.array([[10, 11, 12]])\n",
        "append_rows = np.append (a, b,axis=0)\n",
        "append_cols = np.append (a, [[10], [11]],axis=1)\n",
        "print(\"append new row\")\n",
        "display(append_rows)\n",
        "print(\"append new column\")\n",
        "display(append_cols)"
      ],
      "execution_count": 66,
      "outputs": [
        {
          "output_type": "stream",
          "text": [
            "append new row\n"
          ],
          "name": "stdout"
        },
        {
          "output_type": "display_data",
          "data": {
            "text/plain": [
              "array([[ 1,  2,  3],\n",
              "       [-1, -2, -3],\n",
              "       [10, 11, 12]])"
            ]
          },
          "metadata": {
            "tags": []
          }
        },
        {
          "output_type": "stream",
          "text": [
            "append new column\n"
          ],
          "name": "stdout"
        },
        {
          "output_type": "display_data",
          "data": {
            "text/plain": [
              "array([[ 1,  2,  3, 10],\n",
              "       [-1, -2, -3, 11]])"
            ]
          },
          "metadata": {
            "tags": []
          }
        }
      ]
    },
    {
      "cell_type": "code",
      "metadata": {
        "id": "6bYESpx51PK-",
        "colab": {
          "base_uri": "https://localhost:8080/"
        },
        "outputId": "e59a9571-43f2-4f40-ac4d-446ef190fc30"
      },
      "source": [
        "# custom function for element wise operation\n",
        "# convert the values of Centigrade degrees into Fahrenheit degrees. Centigrade values are stored into a NumPy array\n",
        "fvalues = [0, 12, 45.21, 34, 99.91]\n",
        "F = np.array(fvalues)\n",
        "print(\"Values in Fahrenheit degrees:\")\n",
        "print(F)\n",
        "print(\"Values in  Centigrade degrees:\") \n",
        "print(5*F/9 - 5*32/9)"
      ],
      "execution_count": null,
      "outputs": [
        {
          "output_type": "stream",
          "text": [
            "Values in Fahrenheit degrees:\n",
            "[ 0.   12.   45.21 34.   99.91]\n",
            "Values in  Centigrade degrees:\n",
            "[-17.77777778 -11.11111111   7.33888889   1.11111111  37.72777778]\n"
          ],
          "name": "stdout"
        }
      ]
    },
    {
      "cell_type": "markdown",
      "metadata": {
        "id": "dBIAZSfL1PLB"
      },
      "source": [
        "# indexing and slicing"
      ]
    },
    {
      "cell_type": "markdown",
      "metadata": {
        "id": "wde1CLjsNCAe"
      },
      "source": [
        "The notation and its results can seem confusing at first, so take your time to experiment and become comfortable with it. Use the cells below to try out some examples of array indexing and slicing, with different combinations of indices and ranges. Here are some more examples demonstrated visually:\r\n",
        "\r\n",
        "<img src=\"https://scipy-lectures.org/_images/numpy_indexing.png\" width=\"360\">"
      ]
    },
    {
      "cell_type": "code",
      "metadata": {
        "id": "F-RjZVUa1PLB",
        "colab": {
          "base_uri": "https://localhost:8080/"
        },
        "outputId": "c8578db0-3967-4895-dfb9-12755397090e"
      },
      "source": [
        "nums3d = np.array(([1,2,3],\n",
        "                   [4,5,6],\n",
        "                   [7,8,9]))  \n",
        "print(\"shape is \",nums3d.shape)\n",
        "nums3d"
      ],
      "execution_count": 13,
      "outputs": [
        {
          "output_type": "stream",
          "text": [
            "shape is  (3, 3)\n"
          ],
          "name": "stdout"
        },
        {
          "output_type": "execute_result",
          "data": {
            "text/plain": [
              "array([[1, 2, 3],\n",
              "       [4, 5, 6],\n",
              "       [7, 8, 9]])"
            ]
          },
          "metadata": {
            "tags": []
          },
          "execution_count": 13
        }
      ]
    },
    {
      "cell_type": "code",
      "metadata": {
        "id": "rgxRDTjf1PLG",
        "colab": {
          "base_uri": "https://localhost:8080/",
          "height": 246
        },
        "outputId": "d0c3b000-f510-47b7-a392-56792deb880e"
      },
      "source": [
        "# get elemetns by index\n",
        "print(\"element at first row and first column = {}\".format(nums3d[0,0]*20))\n",
        "print(\"element at second row and last column = {}\".format(nums3d[1,-3]))\n",
        "print(\"last column = {}\".format(nums3d[:,1]))\n",
        "print(\"upper left matrix \\n {}\".format(nums3d[:2,:2]))\n",
        "# To get several and indepent columns\n",
        "display(\"first and last column\",nums3d[:,[0,2]])\n",
        "# To get several and indepent rows\n",
        "display(\"first and last row\",nums3d[[0,2],:])"
      ],
      "execution_count": 24,
      "outputs": [
        {
          "output_type": "stream",
          "text": [
            "element at first row and first column = 20\n",
            "element at second row and last column = 4\n",
            "last column = [2 5 8]\n",
            "upper left matrix \n",
            " [[1 2]\n",
            " [4 5]]\n"
          ],
          "name": "stdout"
        },
        {
          "output_type": "display_data",
          "data": {
            "application/vnd.google.colaboratory.intrinsic+json": {
              "type": "string"
            },
            "text/plain": [
              "'first and last column'"
            ]
          },
          "metadata": {
            "tags": []
          }
        },
        {
          "output_type": "display_data",
          "data": {
            "text/plain": [
              "array([[1, 3],\n",
              "       [4, 6],\n",
              "       [7, 9]])"
            ]
          },
          "metadata": {
            "tags": []
          }
        },
        {
          "output_type": "display_data",
          "data": {
            "application/vnd.google.colaboratory.intrinsic+json": {
              "type": "string"
            },
            "text/plain": [
              "'first and last row'"
            ]
          },
          "metadata": {
            "tags": []
          }
        },
        {
          "output_type": "display_data",
          "data": {
            "text/plain": [
              "array([[1, 2, 3],\n",
              "       [7, 8, 9]])"
            ]
          },
          "metadata": {
            "tags": []
          }
        }
      ]
    },
    {
      "cell_type": "markdown",
      "metadata": {
        "id": "542rPkYN1PLJ"
      },
      "source": [
        "#### quiz  : write a python function to get middle element of square array"
      ]
    },
    {
      "cell_type": "markdown",
      "metadata": {
        "id": "YDNWoYCe1PLK"
      },
      "source": [
        "### Flattening numpy arrays"
      ]
    },
    {
      "cell_type": "code",
      "metadata": {
        "id": "wAmlTVh31PLK",
        "colab": {
          "base_uri": "https://localhost:8080/",
          "height": 188
        },
        "outputId": "4a33309b-10c3-4e78-d383-b2d4d40cb188"
      },
      "source": [
        "array = np.array(([1,2,3],[4,5,6],[7,8,9]))\n",
        "display('before flattening',array,'shape',array.shape)\n",
        "vector=array.flatten()\n",
        "display('after flattening',vector,'shape',vector.shape)"
      ],
      "execution_count": null,
      "outputs": [
        {
          "output_type": "display_data",
          "data": {
            "application/vnd.google.colaboratory.intrinsic+json": {
              "type": "string"
            },
            "text/plain": [
              "'before flattening'"
            ]
          },
          "metadata": {
            "tags": []
          }
        },
        {
          "output_type": "display_data",
          "data": {
            "text/plain": [
              "array([[1, 2, 3],\n",
              "       [4, 5, 6],\n",
              "       [7, 8, 9]])"
            ]
          },
          "metadata": {
            "tags": []
          }
        },
        {
          "output_type": "display_data",
          "data": {
            "application/vnd.google.colaboratory.intrinsic+json": {
              "type": "string"
            },
            "text/plain": [
              "'shape'"
            ]
          },
          "metadata": {
            "tags": []
          }
        },
        {
          "output_type": "display_data",
          "data": {
            "text/plain": [
              "(3, 3)"
            ]
          },
          "metadata": {
            "tags": []
          }
        },
        {
          "output_type": "display_data",
          "data": {
            "application/vnd.google.colaboratory.intrinsic+json": {
              "type": "string"
            },
            "text/plain": [
              "'after flattening'"
            ]
          },
          "metadata": {
            "tags": []
          }
        },
        {
          "output_type": "display_data",
          "data": {
            "text/plain": [
              "array([1, 2, 3, 4, 5, 6, 7, 8, 9])"
            ]
          },
          "metadata": {
            "tags": []
          }
        },
        {
          "output_type": "display_data",
          "data": {
            "application/vnd.google.colaboratory.intrinsic+json": {
              "type": "string"
            },
            "text/plain": [
              "'shape'"
            ]
          },
          "metadata": {
            "tags": []
          }
        },
        {
          "output_type": "display_data",
          "data": {
            "text/plain": [
              "(9,)"
            ]
          },
          "metadata": {
            "tags": []
          }
        }
      ]
    },
    {
      "cell_type": "markdown",
      "metadata": {
        "id": "SedpxLr01PLU"
      },
      "source": [
        "### np.where()\n",
        "we may want to search for indexes and values that satisfy some conditions"
      ]
    },
    {
      "cell_type": "code",
      "metadata": {
        "id": "IUpOHeSj1PLV",
        "colab": {
          "base_uri": "https://localhost:8080/",
          "height": 246
        },
        "outputId": "30869790-87be-4250-fe55-874b120d00ff"
      },
      "source": [
        "array=np.random.randint(low=1,high=50,size=(5,5))\n",
        "display(array)\n",
        "# assume we want to threshold this array values lower than 25 will be zero and values higher than 25 will be ones\n",
        "display('thresholding',np.where(array>25,5,2))\n",
        "# select values based on conditions\n",
        "display('values in array satisfies some conditions',array[np.where(np.logical_and(array<25,array>10))])"
      ],
      "execution_count": 68,
      "outputs": [
        {
          "output_type": "display_data",
          "data": {
            "text/plain": [
              "array([[28, 34, 17, 28, 36],\n",
              "       [35,  3, 18, 48,  5],\n",
              "       [46, 26, 27,  1, 12],\n",
              "       [32, 49, 30, 20, 10],\n",
              "       [11, 15, 12, 41, 31]])"
            ]
          },
          "metadata": {
            "tags": []
          }
        },
        {
          "output_type": "display_data",
          "data": {
            "application/vnd.google.colaboratory.intrinsic+json": {
              "type": "string"
            },
            "text/plain": [
              "'thresholding'"
            ]
          },
          "metadata": {
            "tags": []
          }
        },
        {
          "output_type": "display_data",
          "data": {
            "text/plain": [
              "array([[5, 5, 2, 5, 5],\n",
              "       [5, 2, 2, 5, 2],\n",
              "       [5, 5, 5, 2, 2],\n",
              "       [5, 5, 5, 2, 2],\n",
              "       [2, 2, 2, 5, 5]])"
            ]
          },
          "metadata": {
            "tags": []
          }
        },
        {
          "output_type": "display_data",
          "data": {
            "application/vnd.google.colaboratory.intrinsic+json": {
              "type": "string"
            },
            "text/plain": [
              "'values in array satisfies some conditions'"
            ]
          },
          "metadata": {
            "tags": []
          }
        },
        {
          "output_type": "display_data",
          "data": {
            "text/plain": [
              "array([17, 18, 12, 20, 11, 15, 12])"
            ]
          },
          "metadata": {
            "tags": []
          }
        }
      ]
    },
    {
      "cell_type": "markdown",
      "metadata": {
        "id": "AbnMDW8w1PLb"
      },
      "source": [
        "### Vectorize custom functions\n",
        "we can get vectorized function for our custom function to run in vectorized mode over all array elements"
      ]
    },
    {
      "cell_type": "code",
      "metadata": {
        "id": "PkJYZqWc1PLc",
        "colab": {
          "base_uri": "https://localhost:8080/"
        },
        "outputId": "64e0e98d-cd84-4b71-cd70-d1f903b42f70"
      },
      "source": [
        "def myfunc(a, b):\n",
        "    \"Return a-b if a>b, otherwise return a+b\"\n",
        "    if a > b:\n",
        "        return a - b\n",
        "    else:\n",
        "        return a + b\n",
        "vfunc = np.vectorize(myfunc)\n",
        "vfunc([1, 2, 3, 4], 2)"
      ],
      "execution_count": null,
      "outputs": [
        {
          "output_type": "execute_result",
          "data": {
            "text/plain": [
              "array([3, 4, 1, 2])"
            ]
          },
          "metadata": {
            "tags": []
          },
          "execution_count": 24
        }
      ]
    },
    {
      "cell_type": "markdown",
      "metadata": {
        "id": "UmaXzZfS1PLi"
      },
      "source": [
        "### apply function along axis"
      ]
    },
    {
      "cell_type": "code",
      "metadata": {
        "id": "v1XQU9Eu1PLj",
        "colab": {
          "base_uri": "https://localhost:8080/",
          "height": 135
        },
        "outputId": "8ad26aa1-ce6a-4279-d39d-bcc91dca3b80"
      },
      "source": [
        "def minmax(axis):\n",
        "    return max(axis)-min(axis)\n",
        "\n",
        "array=np.random.randint(low=10,high=100,size=(5,5))\n",
        "display(array)\n",
        "display('min - max of every of row',np.apply_along_axis(func1d=minmax,axis=0,arr=array))"
      ],
      "execution_count": null,
      "outputs": [
        {
          "output_type": "display_data",
          "data": {
            "text/plain": [
              "array([[77, 31, 71, 89, 64],\n",
              "       [86, 86, 94, 98, 61],\n",
              "       [52, 33, 50, 92, 85],\n",
              "       [18, 30, 18, 44, 24],\n",
              "       [35, 86, 49, 99, 54]])"
            ]
          },
          "metadata": {
            "tags": []
          }
        },
        {
          "output_type": "display_data",
          "data": {
            "application/vnd.google.colaboratory.intrinsic+json": {
              "type": "string"
            },
            "text/plain": [
              "'min - max of every of row'"
            ]
          },
          "metadata": {
            "tags": []
          }
        },
        {
          "output_type": "display_data",
          "data": {
            "text/plain": [
              "array([68, 56, 76, 55, 61])"
            ]
          },
          "metadata": {
            "tags": []
          }
        }
      ]
    },
    {
      "cell_type": "markdown",
      "metadata": {
        "id": "5Iw4hiu02OkC"
      },
      "source": [
        "# To enjoy the full numpy functions list \r\n",
        "\r\n",
        "[Numpy Functions](https://numpy.org/doc/stable/reference/routines.html)"
      ]
    },
    {
      "cell_type": "code",
      "metadata": {
        "colab": {
          "base_uri": "https://localhost:8080/"
        },
        "id": "G4ZITij7Da0C",
        "outputId": "db4c0de7-5d2d-4c1b-ddfd-0311e3766858"
      },
      "source": [
        "%whos"
      ],
      "execution_count": 72,
      "outputs": [
        {
          "output_type": "stream",
          "text": [
            "Variable        Type        Data/Info\n",
            "-------------------------------------\n",
            "a               ndarray     2x3: 6 elems, type `int64`, 48 bytes\n",
            "append_cols     ndarray     2x4: 8 elems, type `int64`, 64 bytes\n",
            "append_rows     ndarray     3x3: 9 elems, type `int64`, 72 bytes\n",
            "array           ndarray     5x5: 25 elems, type `int64`, 200 bytes\n",
            "b               ndarray     1x3: 3 elems, type `int64`, 24 bytes\n",
            "display         function    <function display at 0x7fecaadb33b0>\n",
            "eye_Matrix      ndarray     8x8: 64 elems, type `float64`, 512 bytes\n",
            "flat            ndarray     2x3: 6 elems, type `int64`, 48 bytes\n",
            "np              module      <module 'numpy' from '/us<...>kages/numpy/__init__.py'>\n",
            "np_array_vect   ndarray     5: 5 elems, type `int64`, 40 bytes\n",
            "nums            ndarray     16: 16 elems, type `int64`, 128 bytes\n",
            "nums2           ndarray     2x8: 16 elems, type `int64`, 128 bytes\n",
            "nums2d          ndarray     3x3: 9 elems, type `int64`, 72 bytes\n",
            "nums3d          ndarray     3x3: 9 elems, type `int64`, 72 bytes\n",
            "randomnorm      ndarray     2x3: 6 elems, type `float64`, 48 bytes\n",
            "randomuni       ndarray     2x3: 6 elems, type `float64`, 48 bytes\n",
            "three_d         ndarray     1x3x3: 9 elems, type `int64`, 72 bytes\n",
            "two_d           ndarray     2x3: 6 elems, type `int64`, 48 bytes\n",
            "x               list        n=5\n",
            "zeros_matrix    ndarray     8x8: 64 elems, type `float64`, 512 bytes\n",
            "zeros_vect      ndarray     8: 8 elems, type `float64`, 64 bytes\n"
          ],
          "name": "stdout"
        }
      ]
    }
  ]
}