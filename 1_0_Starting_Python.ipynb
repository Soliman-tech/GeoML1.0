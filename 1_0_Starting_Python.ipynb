{
  "nbformat": 4,
  "nbformat_minor": 0,
  "metadata": {
    "colab": {
      "name": "1.0 Starting Python.ipynb",
      "private_outputs": true,
      "provenance": [],
      "collapsed_sections": [],
      "authorship_tag": "ABX9TyOvPgDaawSxAhVYD4cKxwfG"
    },
    "kernelspec": {
      "name": "python3",
      "display_name": "Python 3"
    }
  },
  "cells": [
    {
      "cell_type": "markdown",
      "metadata": {
        "id": "ZwHRQbycHcIW"
      },
      "source": [
        "# Starting Python"
      ]
    },
    {
      "cell_type": "markdown",
      "metadata": {
        "id": "CVMlKT1_Mnf3"
      },
      "source": [
        "# Data types\n",
        "* int() \\\n",
        "* float() \\\n",
        "* str() \\\n",
        "* list[] \\\n",
        "* tuple() \\\n",
        "* dict{}"
      ]
    },
    {
      "cell_type": "code",
      "metadata": {
        "id": "zPZNgKDWHVmv"
      },
      "source": [
        "#@title input() & print() fucnction\n",
        "user_name = input(\"Enter your name: \") \n",
        "print(\"hello :) \" + user_name)\n",
        "user_age = input(\"Enter your age: \") \n",
        "print(\"your age is : \" + user_age)\n",
        "\n",
        "# input function always store strings \n",
        "type(user_age)\n"
      ],
      "execution_count": null,
      "outputs": []
    },
    {
      "cell_type": "code",
      "metadata": {
        "id": "cHfI64BxIAaa"
      },
      "source": [
        "#integer\n",
        "A = 10\n",
        "print(\"print integr A: \", A)\n",
        "#float\n",
        "pi = 3.14\n",
        "print(\"print float pi: \", pi)\n",
        "#string\n",
        "my_name = \"Amr Abdelfattah\"\n",
        "print(\"print string my_name: \", my_name)\n",
        "# List\n",
        "List1 = ['Amr',36,-10,0.8,1j]\n",
        "print(\"print List List1: \", List1)\n",
        "#Tuple\n",
        "Tuple1 = tuple(List1)\n",
        "print(\"print Tuple Tuple1 \", Tuple1)\n",
        "#dictionary\n",
        "my_dict = {1: 'python', 2: 'data', 3: 'science'} \n",
        "print(\"Dictionary with the use of Integer Keys: \") \n",
        "print(my_dict)"
      ],
      "execution_count": null,
      "outputs": []
    },
    {
      "cell_type": "markdown",
      "metadata": {
        "id": "gJlqmaBkeYtM"
      },
      "source": [
        "#Dictionary Operations:\n",
        "\n",
        "* Dictionary holds a pair of values, one being the Key and the other is the value **{key : Value }**\n",
        "* Values in a dictionary can be of **any datatype** and can be **duplicated**, whereas **keys can’t be repeated**"
      ]
    },
    {
      "cell_type": "code",
      "metadata": {
        "id": "Cn-GCjmfeRP0"
      },
      "source": [
        "keys=my_dict.keys()\n",
        "print('my dict keys are keys = ',keys)\n",
        "# acees dict valuse\n",
        "values=my_dict.values()\n",
        "print('my dict values are keys = ',values)\n",
        "print(\"==============================================================\")\n",
        "print('my dict Keys type = ',type(keys))\n",
        "print('my dict values type = ',type(values))\n"
      ],
      "execution_count": null,
      "outputs": []
    },
    {
      "cell_type": "code",
      "metadata": {
        "id": "8logf5t4hHUD"
      },
      "source": [
        "#@title 1- access element at with keys\n",
        "# use square prackets [] and inside it put key you want to get value\n",
        "print(my_dict[1]) # will print 'python' value at key '1'\n",
        "print(my_dict[2])\n",
        "print(my_dict[3])\n",
        "# we can also overwrite key values\n",
        "my_dict[3]=-500\n",
        "print(my_dict)"
      ],
      "execution_count": null,
      "outputs": []
    },
    {
      "cell_type": "code",
      "metadata": {
        "id": "MsvTabupgW6f"
      },
      "source": [
        "#@title 2- add new elements to a dictionary\n",
        "# you must specify the key \n",
        "my_dict[4]='hello'\n",
        "print(my_dict)"
      ],
      "execution_count": null,
      "outputs": []
    },
    {
      "cell_type": "code",
      "metadata": {
        "id": "oPx7LSXNfJ4W"
      },
      "source": [
        "#@title 3- delete elements from dictionary\n",
        "my_dict.pop(2)\n",
        "print(my_dict)"
      ],
      "execution_count": null,
      "outputs": []
    },
    {
      "cell_type": "markdown",
      "metadata": {
        "id": "mnFN7vNgk4PY"
      },
      "source": [
        "# List Operations:\n",
        "* changable\n",
        "* editable\n",
        "* can contain same or mix objects\n",
        "* used in iterations"
      ]
    },
    {
      "cell_type": "code",
      "metadata": {
        "id": "m-PsnuNfNBfk"
      },
      "source": [
        "#@title 1- Creating a List with \n",
        "# the use of multiple values \n",
        "List = [\"python\", 100, 1.8] \n",
        "\n",
        "# we can apply len() function to \n",
        "# get number of elements in the list\n",
        "print(len(List))"
      ],
      "execution_count": null,
      "outputs": []
    },
    {
      "cell_type": "code",
      "metadata": {
        "id": "94Cq3prSk2nR"
      },
      "source": [
        "#@title 2- Accessing a element using \n",
        "# index number \n",
        "print(\"Accessing a element from the list\") \n",
        "print(List[0]) \n",
        "print(List[2]) "
      ],
      "execution_count": null,
      "outputs": []
    },
    {
      "cell_type": "code",
      "metadata": {
        "id": "UceYvJjwNMpH"
      },
      "source": [
        "#@title 3- Creating a Multi-Dimensional List \n",
        "# (By Nesting a list inside a List) \n",
        "List = [['hello', 'world'] , [100,-100]] \n",
        "\n",
        "# accessing a element from the Multi-Dimensional List using index number \n",
        "print(\"Acessing a element from a Multi-Dimensional list\") \n",
        "print(List[0][1]) \n",
        "print(List[1][0])"
      ],
      "execution_count": null,
      "outputs": []
    },
    {
      "cell_type": "code",
      "metadata": {
        "id": "o5ISj_EYN2ru"
      },
      "source": [
        "#@title 4- Add new element \n",
        "# in the List \n",
        "List.append(1) \n",
        "List.append(2) \n",
        "List.append(4) \n",
        "print(\"List after Addition of Three elements: \") \n",
        "print(List) "
      ],
      "execution_count": null,
      "outputs": []
    },
    {
      "cell_type": "code",
      "metadata": {
        "id": "V-Sk5k1_OKDE"
      },
      "source": [
        "# Addition of List to a List \n",
        "List2 = ['data', 'science'] \n",
        "List.append(List2) \n",
        "print(\"List after Addition of a List: \") \n",
        "print(List)"
      ],
      "execution_count": null,
      "outputs": []
    },
    {
      "cell_type": "code",
      "metadata": {
        "id": "3L3PkS2xOJ40"
      },
      "source": [
        "# Addition of Element at specific Position (using Insert Method) \n",
        "List.insert(6, 12) # at position 3 insert \n",
        "List.insert(0, 'hello') \n",
        "print(\"List after performing Insert Operation: \") \n",
        "print(List)"
      ],
      "execution_count": null,
      "outputs": []
    },
    {
      "cell_type": "code",
      "metadata": {
        "id": "Xn1M_Xi5O8dv"
      },
      "source": [
        "# Addition of multiple elements to the List at the end (using Extend Method) \n",
        "List.extend([5, 'python', -0.8]) \n",
        "print(\"List after performing Extend Operation: \") \n",
        "print(List)"
      ],
      "execution_count": null,
      "outputs": []
    },
    {
      "cell_type": "code",
      "metadata": {
        "id": "0qP_c-eV3Sgw"
      },
      "source": [
        "#using Remove() method \r\n",
        "List.remove(2) # item to be removed is 5\r\n",
        "print(\"List after Removal of elements: \") \r\n",
        "print(List) "
      ],
      "execution_count": null,
      "outputs": []
    },
    {
      "cell_type": "code",
      "metadata": {
        "id": "8N1DplbN41F0"
      },
      "source": [
        ""
      ],
      "execution_count": null,
      "outputs": []
    },
    {
      "cell_type": "code",
      "metadata": {
        "id": "Xgu6Q1bMPYQb"
      },
      "source": [
        "#@title 5- Removing Elements\n",
        "#using Remove() method \n",
        "#List.remove(5) # item to be removed is 5\n",
        "print(\"List after Removal of elements: \") \n",
        "print(List) \n",
        "\n",
        "## pop() method\n",
        "# pop() removes the item at a specific index and returns it.\n",
        "List = [1,2,3,4,5] \n",
        "\n",
        "# Removing element from the \n",
        "# Set using the pop() method \n",
        "List.pop() # if no index is passed pop() will remove last element\n",
        "print(\"List after popping an element: \") \n",
        "print(List) \n",
        "\n",
        "# Removing element at a \n",
        "# specific location from the \n",
        "# Set using the pop() method \n",
        "List.pop(2) # remove element at index 2 \n",
        "print(\"List after popping a specific element: \") \n",
        "print(List) \n"
      ],
      "execution_count": null,
      "outputs": []
    },
    {
      "cell_type": "code",
      "metadata": {
        "id": "wBRpTe7vUf4b"
      },
      "source": [
        "#@title 6- List slicing\n",
        "L = ['GR', 'DT', 'Rhob']\n",
        "print(L[0]) \n",
        "print(L[1])\n",
        "print(L[2])\n",
        "print(L[-2])\n",
        "print(L[2:])\n",
        "print(L[1:])\n",
        "print(L[0:])\n",
        "print(L[3:])\n"
      ],
      "execution_count": null,
      "outputs": []
    },
    {
      "cell_type": "markdown",
      "metadata": {
        "id": "ECrCZsusRfPu"
      },
      "source": [
        "# tuple Operations\n",
        "* unchangable\n",
        "* uneditable\n",
        "* can contain mix of objects\n",
        "* can not be used in iterations"
      ]
    },
    {
      "cell_type": "code",
      "metadata": {
        "id": "BIXn2q6tRbvf"
      },
      "source": [
        "#@title 1- Creating a Tuple \n",
        "#with Mixed Datatype \n",
        "Tuple1 = (5, 'Welcome', 7, 'python') \n",
        "print(\"Tuple with Mixed Datatypes: \") \n",
        "print(Tuple1) \n",
        "\n",
        "#Creating a Tuple \n",
        "#with nested tuples \n",
        "Tuple1 = (0, 1, 2, 3) \n",
        "Tuple2 = ('python', 'geek') \n",
        "Tuple3 = (Tuple1, Tuple2) \n",
        "print(\"Tuple with nested tuples: \") \n",
        "print(Tuple3) \n",
        "\n",
        "#Creating a Tuple \n",
        "#with repetition \n",
        "Tuple1 = ('Geeks') * 3\n",
        "print(\"Tuple with repetition: \") \n",
        "print(Tuple1) "
      ],
      "execution_count": null,
      "outputs": []
    },
    {
      "cell_type": "code",
      "metadata": {
        "id": "IzjAJ4y1S7xC"
      },
      "source": [
        "#@title 2- Accessing Tuple with Indexing \n",
        "Tuple1 = tuple(\"Geeks\") \n",
        "print(\"First and last elements of Tuple: \") \n",
        "print(Tuple1[1],Tuple1[-1])"
      ],
      "execution_count": null,
      "outputs": []
    },
    {
      "cell_type": "code",
      "metadata": {
        "id": "b3BvL5cbTNCQ"
      },
      "source": [
        "#@title 3- Deleting a Tuple \n",
        "\n",
        "Tuple1 = (0, 1, 2, 3, 4) \n",
        "del Tuple1[0]\n",
        "print(Tuple1)"
      ],
      "execution_count": null,
      "outputs": []
    },
    {
      "cell_type": "markdown",
      "metadata": {
        "id": "KN4h2Yn-0aSQ"
      },
      "source": [
        "# Set Operations\r\n",
        "* unchangable\r\n",
        "* unordered\r\n",
        "* can contain mix of objects\r\n",
        "* unindexed\r\n",
        "* dont allow duplications"
      ]
    },
    {
      "cell_type": "code",
      "metadata": {
        "id": "5fvG_CElx_3t"
      },
      "source": [
        "#@title 1- Creating a set \r\n",
        "a_set = {\"apple\", \"banana\", \"cherry\"}\r\n",
        "print(a_set)\r\n",
        "\r\n",
        "myset = set((\"apple\", \"banana\", \"cherry\"))\r\n",
        "print(myset)"
      ],
      "execution_count": null,
      "outputs": []
    },
    {
      "cell_type": "code",
      "metadata": {
        "id": "6uiHPcJGydon"
      },
      "source": [
        "print(len(a_set))\r\n",
        "print(type(a_set))"
      ],
      "execution_count": null,
      "outputs": []
    },
    {
      "cell_type": "code",
      "metadata": {
        "id": "O1gkERcAyxn1"
      },
      "source": [
        "#@title 2- add item to a set\r\n",
        "myset.add(\"orange\")\r\n",
        "print(myset)"
      ],
      "execution_count": null,
      "outputs": []
    },
    {
      "cell_type": "code",
      "metadata": {
        "id": "Nx0cZfC22HOl"
      },
      "source": [
        "#@title 3- remove item from a set\r\n",
        "myset.remove(\"banana\")\r\n",
        "\r\n",
        "print(myset)"
      ],
      "execution_count": null,
      "outputs": []
    }
  ]
}