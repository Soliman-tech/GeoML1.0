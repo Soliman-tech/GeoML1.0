{
  "nbformat": 4,
  "nbformat_minor": 0,
  "metadata": {
    "colab": {
      "name": "1.0 Starting Python.ipynb",
      "provenance": [],
      "collapsed_sections": [],
      "toc_visible": true
    },
    "kernelspec": {
      "name": "python3",
      "display_name": "Python 3"
    }
  },
  "cells": [
    {
      "cell_type": "markdown",
      "metadata": {
        "id": "ZwHRQbycHcIW"
      },
      "source": [
        "# Starting Python"
      ]
    },
    {
      "cell_type": "code",
      "metadata": {
        "id": "zPZNgKDWHVmv",
        "colab": {
          "base_uri": "https://localhost:8080/"
        },
        "outputId": "e4e5d5a8-d4a9-4a7c-d505-d8838733f2b2"
      },
      "source": [
        "#@title input() & print() fucnction\n",
        "user_name = input(\"Enter your name: \") \n",
        "print(\"hello :) \"+user_name)\n",
        "user_age = input(\"Enter your age: \") \n",
        "print(\"your age is : \"+user_age)\n",
        "\n",
        "# input function always store strings \n",
        "type(user_age)"
      ],
      "execution_count": null,
      "outputs": [
        {
          "output_type": "stream",
          "text": [
            "Enter your name: hi\n",
            "hello :) hi\n",
            "Enter your age: 30\n",
            "your age is : 30\n"
          ],
          "name": "stdout"
        },
        {
          "output_type": "execute_result",
          "data": {
            "text/plain": [
              "str"
            ]
          },
          "metadata": {
            "tags": []
          },
          "execution_count": 1
        }
      ]
    },
    {
      "cell_type": "markdown",
      "metadata": {
        "id": "CVMlKT1_Mnf3"
      },
      "source": [
        "# Data types\n",
        "* int() \\\n",
        "* float() \\\n",
        "* str() \\\n",
        "* list[] \\\n",
        "* tuple() \\\n",
        "* dict{}"
      ]
    },
    {
      "cell_type": "code",
      "metadata": {
        "id": "cHfI64BxIAaa"
      },
      "source": [
        "#integer\n",
        "A = 10\n",
        "print(\"print integr A: \", A)\n",
        "#float\n",
        "pi = 3.14\n",
        "print(\"print float pi: \", pi)\n",
        "#string\n",
        "my_name = \"Amr Abdelfattah\"\n",
        "print(\"print string my_name: \", my_name)\n",
        "# List\n",
        "List1 = ['Amr',36,-10,0.8]\n",
        "print(\"print List List1: \", List1)\n",
        "#Tuple\n",
        "Tuple1 = tuple(List1)\n",
        "print(\"print Tuple Tuple1 \", Tuple1)\n",
        "#dictionary\n",
        "my_dict = {1: 'python', 2: 'data', 3: 'science'} \n",
        "print(\"Dictionary with the use of Integer Keys: \") \n",
        "print(my_dict)"
      ],
      "execution_count": null,
      "outputs": []
    },
    {
      "cell_type": "markdown",
      "metadata": {
        "id": "gJlqmaBkeYtM"
      },
      "source": [
        "#Dictionary Operations:\n",
        "\n",
        "* Dictionary holds a pair of values, one being the Key and the other is the value **{key : Value }**\n",
        "* Values in a dictionary can be of **any datatype** and can be **duplicated**, whereas **keys can’t be repeated**"
      ]
    },
    {
      "cell_type": "code",
      "metadata": {
        "id": "Cn-GCjmfeRP0",
        "colab": {
          "base_uri": "https://localhost:8080/",
          "height": 101
        },
        "outputId": "0a3d7aab-a7ba-49cb-fe85-a11b9da6fda6"
      },
      "source": [
        "keys=my_dict.keys()\n",
        "print('my dict keys are keys = ',keys)\n",
        "# acees dict valuse\n",
        "values=my_dict.values()\n",
        "print('my dict values are keys = ',values)\n",
        "print(\"==============================================================\")\n",
        "print('my dict Keys type = ',type(keys))\n",
        "print('my dict values type = ',type(values))\n"
      ],
      "execution_count": null,
      "outputs": [
        {
          "output_type": "stream",
          "text": [
            "my dict keys are keys =  dict_keys([1, 2, 3])\n",
            "my dict values are keys =  dict_values(['python', 'data', 'science'])\n",
            "==============================================================\n",
            "my dict Keys type =  <class 'dict_keys'>\n",
            "my dict values type =  <class 'dict_values'>\n"
          ],
          "name": "stdout"
        }
      ]
    },
    {
      "cell_type": "code",
      "metadata": {
        "id": "8logf5t4hHUD",
        "colab": {
          "base_uri": "https://localhost:8080/",
          "height": 84
        },
        "outputId": "741b152b-1f36-4121-b9be-2d91d91bff4c"
      },
      "source": [
        "#@title 1- access element at with keys\n",
        "# use square prackets [] and inside it put key you want to get value\n",
        "print(my_dict[1]) # will print 'python' value at key '1'\n",
        "print(my_dict[2])\n",
        "print(my_dict[3])\n",
        "# we can also overwrite key values\n",
        "my_dict[3]=-500\n",
        "print(my_dict)"
      ],
      "execution_count": null,
      "outputs": [
        {
          "output_type": "stream",
          "text": [
            "python\n",
            "data\n",
            "science\n",
            "{1: 'python', 2: 'data', 3: -500}\n"
          ],
          "name": "stdout"
        }
      ]
    },
    {
      "cell_type": "code",
      "metadata": {
        "id": "MsvTabupgW6f",
        "colab": {
          "base_uri": "https://localhost:8080/",
          "height": 34
        },
        "outputId": "b9f819e4-bf4c-4257-a0f7-c3fb796ec3e4"
      },
      "source": [
        "#@title 2- add new elements to a dictionary\n",
        "# you must specify the key \n",
        "my_dict[4]='hello'\n",
        "print(my_dict)"
      ],
      "execution_count": null,
      "outputs": [
        {
          "output_type": "stream",
          "text": [
            "{1: 'python', 2: 'data', 3: -500, 4: 'hello'}\n"
          ],
          "name": "stdout"
        }
      ]
    },
    {
      "cell_type": "code",
      "metadata": {
        "id": "oPx7LSXNfJ4W",
        "colab": {
          "base_uri": "https://localhost:8080/",
          "height": 34
        },
        "outputId": "49feef54-6d05-43f8-eb41-258b1290298d"
      },
      "source": [
        "#@title 3- delete elements from dictionary\n",
        "my_dict.pop(2)\n",
        "print(my_dict)"
      ],
      "execution_count": null,
      "outputs": [
        {
          "output_type": "stream",
          "text": [
            "{1: 'python', 3: -500, 4: 'hello'}\n"
          ],
          "name": "stdout"
        }
      ]
    },
    {
      "cell_type": "markdown",
      "metadata": {
        "id": "mnFN7vNgk4PY"
      },
      "source": [
        "# List Operations:\n",
        "* changable\n",
        "* editable\n",
        "* can contain same or mix objects\n",
        "* used in iterations"
      ]
    },
    {
      "cell_type": "code",
      "metadata": {
        "id": "m-PsnuNfNBfk",
        "colab": {
          "base_uri": "https://localhost:8080/",
          "height": 34
        },
        "outputId": "1484efe3-32ba-4b3e-9a72-c82e78c90e51"
      },
      "source": [
        "#@title 1- Creating a List with \n",
        "# the use of multiple values \n",
        "List = [\"python\", 100, 1.8] \n",
        "\n",
        "# we can apply len() function to get number of elements in the list\n",
        "print(len(List))"
      ],
      "execution_count": null,
      "outputs": [
        {
          "output_type": "stream",
          "text": [
            "3\n"
          ],
          "name": "stdout"
        }
      ]
    },
    {
      "cell_type": "code",
      "metadata": {
        "id": "94Cq3prSk2nR",
        "colab": {
          "base_uri": "https://localhost:8080/",
          "height": 67
        },
        "outputId": "a76ca3da-156a-4f83-d43a-e08eec89254e"
      },
      "source": [
        "#@title 2- Accessing a element using index number \n",
        "print(\"Accessing a element from the list\") \n",
        "print(List[0]) \n",
        "print(List[2]) "
      ],
      "execution_count": null,
      "outputs": [
        {
          "output_type": "stream",
          "text": [
            "Accessing a element from the list\n",
            "python\n",
            "1.8\n"
          ],
          "name": "stdout"
        }
      ]
    },
    {
      "cell_type": "code",
      "metadata": {
        "id": "UceYvJjwNMpH",
        "colab": {
          "base_uri": "https://localhost:8080/",
          "height": 67
        },
        "outputId": "78a9dd9f-1c8d-4a24-b918-7534a1e46ba3"
      },
      "source": [
        "#@title 3- Creating a Multi-Dimensional List \n",
        "# (By Nesting a list inside a List) \n",
        "List = [['hello', 'world'] , [100,-100]] \n",
        "\n",
        "# accessing a element from the Multi-Dimensional List using index number \n",
        "print(\"Acessing a element from a Multi-Dimensional list\") \n",
        "print(List[0][1]) \n",
        "print(List[1][0])"
      ],
      "execution_count": null,
      "outputs": [
        {
          "output_type": "stream",
          "text": [
            "Acessing a element from a Multi-Dimensional list\n",
            "world\n",
            "100\n"
          ],
          "name": "stdout"
        }
      ]
    },
    {
      "cell_type": "code",
      "metadata": {
        "id": "o5ISj_EYN2ru",
        "colab": {
          "base_uri": "https://localhost:8080/",
          "height": 50
        },
        "outputId": "a6ead248-8d19-4ec6-9759-b711da7c506f"
      },
      "source": [
        "#@title 4- Add new element \n",
        "# in the List \n",
        "List.append(1) \n",
        "List.append(2) \n",
        "List.append(4) \n",
        "print(\"List after Addition of Three elements: \") \n",
        "print(List) "
      ],
      "execution_count": null,
      "outputs": [
        {
          "output_type": "stream",
          "text": [
            "List after Addition of Three elements: \n",
            "[['hello', 'world'], [100, -100], 1, 2, 4]\n"
          ],
          "name": "stdout"
        }
      ]
    },
    {
      "cell_type": "code",
      "metadata": {
        "id": "V-Sk5k1_OKDE",
        "colab": {
          "base_uri": "https://localhost:8080/",
          "height": 50
        },
        "outputId": "01a1af2b-816c-4b01-8df5-bcdd883bb88f"
      },
      "source": [
        "# Addition of List to a List \n",
        "List2 = ['data', 'science'] \n",
        "List.append(List2) \n",
        "print(\"List after Addition of a List: \") \n",
        "print(List)"
      ],
      "execution_count": null,
      "outputs": [
        {
          "output_type": "stream",
          "text": [
            "List after Addition of a List: \n",
            "[['hello', 'world'], [100, -100], 1, 2, 4, ['data', 'science']]\n"
          ],
          "name": "stdout"
        }
      ]
    },
    {
      "cell_type": "code",
      "metadata": {
        "id": "3L3PkS2xOJ40",
        "colab": {
          "base_uri": "https://localhost:8080/",
          "height": 50
        },
        "outputId": "681d73a0-9069-4072-ab07-8510fd3850cc"
      },
      "source": [
        "# Addition of Element at specific Position (using Insert Method) \n",
        "List.insert(6, 12) # at position 3 insert \n",
        "List.insert(0, 'hello') \n",
        "print(\"List after performing Insert Operation: \") \n",
        "print(List)"
      ],
      "execution_count": null,
      "outputs": [
        {
          "output_type": "stream",
          "text": [
            "List after performing Insert Operation: \n",
            "['hello', ['hello', 'world'], [100, -100], 1, 2, 4, ['data', 'science'], 12]\n"
          ],
          "name": "stdout"
        }
      ]
    },
    {
      "cell_type": "code",
      "metadata": {
        "id": "Xn1M_Xi5O8dv",
        "colab": {
          "base_uri": "https://localhost:8080/",
          "height": 50
        },
        "outputId": "56f71469-1422-4ce1-c22f-ecb0c671dde7"
      },
      "source": [
        "# Addition of multiple elements to the List at the end (using Extend Method) \n",
        "List.extend([5, 'python', -0.8]) \n",
        "print(\"List after performing Extend Operation: \") \n",
        "print(List)"
      ],
      "execution_count": null,
      "outputs": [
        {
          "output_type": "stream",
          "text": [
            "List after performing Extend Operation: \n",
            "['hello', ['hello', 'world'], [100, -100], 1, 2, 4, ['data', 'science'], 12, 5, 'python', -0.8]\n"
          ],
          "name": "stdout"
        }
      ]
    },
    {
      "cell_type": "code",
      "metadata": {
        "id": "Xgu6Q1bMPYQb",
        "colab": {
          "base_uri": "https://localhost:8080/",
          "height": 262
        },
        "outputId": "d588ed0d-eec5-4c6f-954c-6394c1faa03e"
      },
      "source": [
        "#@title 5- Removing Elements\n",
        "#using Remove() method \n",
        "List.remove(5) # item to be removed is 5\n",
        "print(\"List after Removal of elements: \") \n",
        "print(List) \n",
        "\n",
        "# using iterator method \n",
        "list1 = [1,2,3,4,5,3,6,8,9,5,7,4,5,6,9,5,1,2,3]\n",
        "for i in range(1, 5): \n",
        "    List1.remove(i) \n",
        "print(\"List after Removing a range of elements: \") \n",
        "print(List)\n",
        "\n",
        "## pop() method\n",
        "# pop() removes the item at a specific index and returns it.\n",
        "List = [1,2,3,4,5] \n",
        "\n",
        "# Removing element from the \n",
        "# Set using the pop() method \n",
        "List.pop() # if no index is passed pop() will remove last element\n",
        "print(\"List after popping an element: \") \n",
        "print(List) \n",
        "\n",
        "# Removing element at a \n",
        "# specific location from the \n",
        "# Set using the pop() method \n",
        "List.pop(2) # remove element ata index 2 \n",
        "print(\"List after popping a specific element: \") \n",
        "print(List) \n"
      ],
      "execution_count": null,
      "outputs": [
        {
          "output_type": "stream",
          "text": [
            "List after Removal of elements: \n",
            "['hello', ['hello', 'world'], [100, -100], 1, 2, 4, ['data', 'science'], 12, 'python', -0.8]\n"
          ],
          "name": "stdout"
        },
        {
          "output_type": "error",
          "ename": "ValueError",
          "evalue": "ignored",
          "traceback": [
            "\u001b[0;31m---------------------------------------------------------------------------\u001b[0m",
            "\u001b[0;31mValueError\u001b[0m                                Traceback (most recent call last)",
            "\u001b[0;32m<ipython-input-14-847d36194da6>\u001b[0m in \u001b[0;36m<module>\u001b[0;34m()\u001b[0m\n\u001b[1;32m      8\u001b[0m \u001b[0mlist1\u001b[0m \u001b[0;34m=\u001b[0m \u001b[0;34m[\u001b[0m\u001b[0;36m1\u001b[0m\u001b[0;34m,\u001b[0m\u001b[0;36m2\u001b[0m\u001b[0;34m,\u001b[0m\u001b[0;36m3\u001b[0m\u001b[0;34m,\u001b[0m\u001b[0;36m4\u001b[0m\u001b[0;34m,\u001b[0m\u001b[0;36m5\u001b[0m\u001b[0;34m,\u001b[0m\u001b[0;36m3\u001b[0m\u001b[0;34m,\u001b[0m\u001b[0;36m6\u001b[0m\u001b[0;34m,\u001b[0m\u001b[0;36m8\u001b[0m\u001b[0;34m,\u001b[0m\u001b[0;36m9\u001b[0m\u001b[0;34m,\u001b[0m\u001b[0;36m5\u001b[0m\u001b[0;34m,\u001b[0m\u001b[0;36m7\u001b[0m\u001b[0;34m,\u001b[0m\u001b[0;36m4\u001b[0m\u001b[0;34m,\u001b[0m\u001b[0;36m5\u001b[0m\u001b[0;34m,\u001b[0m\u001b[0;36m6\u001b[0m\u001b[0;34m,\u001b[0m\u001b[0;36m9\u001b[0m\u001b[0;34m,\u001b[0m\u001b[0;36m5\u001b[0m\u001b[0;34m,\u001b[0m\u001b[0;36m1\u001b[0m\u001b[0;34m,\u001b[0m\u001b[0;36m2\u001b[0m\u001b[0;34m,\u001b[0m\u001b[0;36m3\u001b[0m\u001b[0;34m]\u001b[0m\u001b[0;34m\u001b[0m\u001b[0;34m\u001b[0m\u001b[0m\n\u001b[1;32m      9\u001b[0m \u001b[0;32mfor\u001b[0m \u001b[0mi\u001b[0m \u001b[0;32min\u001b[0m \u001b[0mrange\u001b[0m\u001b[0;34m(\u001b[0m\u001b[0;36m1\u001b[0m\u001b[0;34m,\u001b[0m \u001b[0;36m5\u001b[0m\u001b[0;34m)\u001b[0m\u001b[0;34m:\u001b[0m\u001b[0;34m\u001b[0m\u001b[0;34m\u001b[0m\u001b[0m\n\u001b[0;32m---> 10\u001b[0;31m     \u001b[0mList1\u001b[0m\u001b[0;34m.\u001b[0m\u001b[0mremove\u001b[0m\u001b[0;34m(\u001b[0m\u001b[0mi\u001b[0m\u001b[0;34m)\u001b[0m\u001b[0;34m\u001b[0m\u001b[0;34m\u001b[0m\u001b[0m\n\u001b[0m\u001b[1;32m     11\u001b[0m \u001b[0mprint\u001b[0m\u001b[0;34m(\u001b[0m\u001b[0;34m\"List after Removing a range of elements: \"\u001b[0m\u001b[0;34m)\u001b[0m\u001b[0;34m\u001b[0m\u001b[0;34m\u001b[0m\u001b[0m\n\u001b[1;32m     12\u001b[0m \u001b[0mprint\u001b[0m\u001b[0;34m(\u001b[0m\u001b[0mList\u001b[0m\u001b[0;34m)\u001b[0m\u001b[0;34m\u001b[0m\u001b[0;34m\u001b[0m\u001b[0m\n",
            "\u001b[0;31mValueError\u001b[0m: list.remove(x): x not in list"
          ]
        }
      ]
    },
    {
      "cell_type": "code",
      "metadata": {
        "id": "wBRpTe7vUf4b"
      },
      "source": [
        "#@title 6- List slicing\n",
        "L = ['GR', 'DT', 'Rhob']\n",
        "print(L[0]) \n",
        "print(L[1])\n",
        "print(L[2])\n",
        "print(L[-2])\n",
        "print(L[2:])\n",
        "print(L[1:])\n",
        "print(L[0:])\n",
        "print(L[3:])\n"
      ],
      "execution_count": null,
      "outputs": []
    },
    {
      "cell_type": "markdown",
      "metadata": {
        "id": "ECrCZsusRfPu"
      },
      "source": [
        "# tuple Operations\n",
        "* unchangable\n",
        "* uneditable\n",
        "* can contain mix of objects\n",
        "* can not be used in iterations"
      ]
    },
    {
      "cell_type": "code",
      "metadata": {
        "id": "BIXn2q6tRbvf"
      },
      "source": [
        "#@title 1- Creating a Tuple \n",
        "#with Mixed Datatype \n",
        "Tuple1 = (5, 'Welcome', 7, 'python') \n",
        "print(\"Tuple with Mixed Datatypes: \") \n",
        "print(Tuple1) \n",
        "\n",
        "#Creating a Tuple \n",
        "#with nested tuples \n",
        "Tuple1 = (0, 1, 2, 3) \n",
        "Tuple2 = ('python', 'geek') \n",
        "Tuple3 = (Tuple1, Tuple2) \n",
        "print(\"Tuple with nested tuples: \") \n",
        "print(Tuple3) \n",
        "\n",
        "#Creating a Tuple \n",
        "#with repetition \n",
        "Tuple1 = ('Geeks') * 3\n",
        "print(\"Tuple with repetition: \") \n",
        "print(Tuple1) "
      ],
      "execution_count": null,
      "outputs": []
    },
    {
      "cell_type": "code",
      "metadata": {
        "id": "IzjAJ4y1S7xC"
      },
      "source": [
        "#@title 2- Accessing Tuple with Indexing \n",
        "Tuple1 = tuple(\"Geeks\") \n",
        "print(\"First and last elements of Tuple: \") \n",
        "print(Tuple1[1],Tuple1[-1])"
      ],
      "execution_count": null,
      "outputs": []
    },
    {
      "cell_type": "code",
      "metadata": {
        "id": "b3BvL5cbTNCQ"
      },
      "source": [
        "#@title 3- Deleting a Tuple \n",
        "\n",
        "Tuple1 = (0, 1, 2, 3, 4) \n",
        "del Tuple1[0]\n",
        "print(Tuple1)"
      ],
      "execution_count": null,
      "outputs": []
    }
  ]
}