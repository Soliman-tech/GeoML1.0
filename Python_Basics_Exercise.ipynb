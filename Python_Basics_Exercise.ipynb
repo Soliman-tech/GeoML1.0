{
  "nbformat": 4,
  "nbformat_minor": 0,
  "metadata": {
    "colab": {
      "name": "Python Basics Exercise.ipynb",
      "private_outputs": true,
      "provenance": [],
      "collapsed_sections": [],
      "toc_visible": true,
      "authorship_tag": "ABX9TyPWDyBnYrvgZHcqNzeEj9cR"
    },
    "kernelspec": {
      "name": "python3",
      "display_name": "Python 3"
    }
  },
  "cells": [
    {
      "cell_type": "markdown",
      "metadata": {
        "id": "jrpTi2Oa0K7y"
      },
      "source": [
        "## Add Two Numbers\r\n",
        "\r\n",
        "write a function to adds two numbers and print the output "
      ]
    },
    {
      "cell_type": "markdown",
      "metadata": {
        "id": "AiADnX6YO381"
      },
      "source": [
        "## Square root \r\n",
        "\r\n",
        "write a function to calculate the square root of a number and print / return the output"
      ]
    },
    {
      "cell_type": "markdown",
      "metadata": {
        "id": "Qa2Ut5liO6lG"
      },
      "source": [
        "## The area of triangle\r\n",
        "\r\n",
        "write a function to calculate the area of triangle and print / return the output"
      ]
    },
    {
      "cell_type": "markdown",
      "metadata": {
        "id": "evLizZPbO6iO"
      },
      "source": [
        "## Solving Quadratic Equation\r\n",
        "\r\n",
        "write a function to solve the Quadratic Equation and print / return the output\r\n",
        "\r\n",
        "* the Quadratic Equation : d = (b**2) - (4*a*c), you basically fsolve for (d)\r\n",
        "\r\n",
        "* you can use library cmath using this command\r\n",
        "* -> import cmath "
      ]
    },
    {
      "cell_type": "markdown",
      "metadata": {
        "id": "aSWvnBfmO6fv"
      },
      "source": [
        "## Convert Kilometers to Miles and vice versa\r\n",
        "\r\n",
        "write a function to Convert Kilometers to Miles vice versa and print / return the output"
      ]
    },
    {
      "cell_type": "markdown",
      "metadata": {
        "id": "wt-gpe9zO6cq"
      },
      "source": [
        "## Convert Celsius To Fahrenheit\r\n",
        "\r\n",
        "write a function to Convert Celsius To Fahrenheit and print / return the output"
      ]
    },
    {
      "cell_type": "markdown",
      "metadata": {
        "id": "LVlWvZnTO6ZW"
      },
      "source": [
        "## Check if a Number is Positive, Negative or 0 using input method \r\n"
      ]
    },
    {
      "cell_type": "markdown",
      "metadata": {
        "id": "CoTRY6LUUFce"
      },
      "source": [
        "# IF STATMENT"
      ]
    },
    {
      "cell_type": "markdown",
      "metadata": {
        "id": "LF581pBWO6WH"
      },
      "source": [
        "## Odd or Even\r\n",
        "\r\n",
        "us if statement to determine if the input number is odd or even"
      ]
    },
    {
      "cell_type": "markdown",
      "metadata": {
        "id": "ALPoJHjBO6SI"
      },
      "source": [
        "## Check Leap Year\r\n",
        "\r\n",
        "A leap year is exactly divisible by 4 except for century years (years ending with 00). The century year is a leap year only if it is perfectly divisible by 400\r\n",
        "\r\n",
        "* check if the year is divisible by 4 \r\n",
        "* check if the year is a century year, then , check if the year is divisible by 400 "
      ]
    },
    {
      "cell_type": "markdown",
      "metadata": {
        "id": "GAY-JWqyO6Mw"
      },
      "source": [
        "## The Largest Number\r\n",
        "\r\n",
        "check the largest number between three different numbers"
      ]
    },
    {
      "cell_type": "markdown",
      "metadata": {
        "id": "Zn0RSKR6O6D2"
      },
      "source": [
        "## Check Prime Number\r\n",
        "A positive integer greater than 1 which has no other factors except 1 and the number itself is called a prime number. 2, 3, 5, 7 etc. are prime numbers as they do not have any other factors. But 6 is not prime (it is composite) since, 2 x 3 = 6."
      ]
    },
    {
      "cell_type": "markdown",
      "metadata": {
        "id": "Rl5BpgRWWpjk"
      },
      "source": [
        "## Print all Prime Numbers in an Interval"
      ]
    },
    {
      "cell_type": "markdown",
      "metadata": {
        "id": "ymkuxyL4Wpdr"
      },
      "source": [
        "## Find the Factorial of a Number\r\n",
        "\r\n",
        "The factorial of a number is the product of all the integers from 1 to that number.\r\n",
        "\r\n",
        "For example, the factorial of 6 is 1*2*3*4*5*6 = 720. Factorial is not defined for negative numbers, and the factorial of zero is one, 0! = 1."
      ]
    },
    {
      "cell_type": "markdown",
      "metadata": {
        "id": "ZMYtMjDFWpW7"
      },
      "source": [
        "## Display the multiplication Table of a given number "
      ]
    },
    {
      "cell_type": "markdown",
      "metadata": {
        "id": "p6EbBBXHW3N3"
      },
      "source": [
        "## Check Armstrong Number\r\n",
        "\r\n",
        "A positive integer is called an Armstrong number of order n if\r\n",
        "\r\n",
        "abcd... = an + bn + cn + dn + ... /n\r\n",
        "\r\n",
        "153 = 1*1*1 + 5*5*5 + 3*3*3  // 153 is an Armstrong number."
      ]
    },
    {
      "cell_type": "markdown",
      "metadata": {
        "id": "_8_G-aOAW3Lh"
      },
      "source": [
        "## Find the Sum of Natural Numbers\r\n",
        "\r\n"
      ]
    }
  ]
}